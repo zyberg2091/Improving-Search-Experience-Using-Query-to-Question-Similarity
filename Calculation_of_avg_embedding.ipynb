{
  "nbformat": 4,
  "nbformat_minor": 0,
  "metadata": {
    "colab": {
      "name": "Calculation of avg embedding",
      "provenance": [],
      "collapsed_sections": []
    },
    "kernelspec": {
      "name": "python3",
      "display_name": "Python 3"
    },
    "accelerator": "GPU"
  },
  "cells": [
    {
      "cell_type": "code",
      "metadata": {
        "id": "xLYyx4zccolI"
      },
      "source": [
        "import numpy as np\r\n",
        "import pickle\r\n",
        "import tensorflow as tf"
      ],
      "execution_count": null,
      "outputs": []
    },
    {
      "cell_type": "code",
      "metadata": {
        "id": "aGcOe6mPqsD_"
      },
      "source": [
        "devices = tf.config.experimental.list_physical_devices(\"GPU\")"
      ],
      "execution_count": null,
      "outputs": []
    },
    {
      "cell_type": "code",
      "metadata": {
        "colab": {
          "base_uri": "https://localhost:8080/"
        },
        "id": "9TOCgXnbq1tb",
        "outputId": "f90fdd85-bac7-46bd-80de-9e59cddab845"
      },
      "source": [
        "devices"
      ],
      "execution_count": null,
      "outputs": [
        {
          "output_type": "execute_result",
          "data": {
            "text/plain": [
              "[PhysicalDevice(name='/physical_device:GPU:0', device_type='GPU')]"
            ]
          },
          "metadata": {
            "tags": []
          },
          "execution_count": 6
        }
      ]
    },
    {
      "cell_type": "code",
      "metadata": {
        "colab": {
          "base_uri": "https://localhost:8080/"
        },
        "id": "zx7sFUoWltDK",
        "outputId": "5c7e8f7c-d086-4074-bd95-5ad7cbd15f85"
      },
      "source": [
        "# lets try google embeddings according to the paper\r\n",
        "!mkdir ~/.kaggle\r\n",
        "!cp /content/drive/MyDrive/kaggle.json /root/.kaggle\r\n",
        "!chmod 600 /root/.kaggle/kaggle.json\r\n",
        "!kaggle datasets download alvations/vegetables-google-word2vec"
      ],
      "execution_count": null,
      "outputs": [
        {
          "output_type": "stream",
          "text": [
            "Downloading vegetables-google-word2vec.zip to /content\n",
            "100% 1.65G/1.66G [00:16<00:00, 106MB/s]\n",
            "100% 1.66G/1.66G [00:16<00:00, 108MB/s]\n"
          ],
          "name": "stdout"
        }
      ]
    },
    {
      "cell_type": "code",
      "metadata": {
        "colab": {
          "base_uri": "https://localhost:8080/"
        },
        "id": "d1kHaBJ6r7Uu",
        "outputId": "84abf08e-b6a1-4e09-8764-d6677f61e856"
      },
      "source": [
        "!unzip /content/vegetables-google-word2vec.zip"
      ],
      "execution_count": null,
      "outputs": [
        {
          "output_type": "stream",
          "text": [
            "Archive:  /content/vegetables-google-word2vec.zip\n",
            "  inflating: word2vec.news.negative-sample.300d.npy  \n",
            "  inflating: word2vec.news.negative-sample.300d.pkl  \n",
            "  inflating: word2vec.news.negative-sample.300d.txt  \n"
          ],
          "name": "stdout"
        }
      ]
    },
    {
      "cell_type": "code",
      "metadata": {
        "id": "-LQBiOKEr5d3"
      },
      "source": [
        "embedding=np.load('/content/word2vec.news.negative-sample.300d.npy')"
      ],
      "execution_count": null,
      "outputs": []
    },
    {
      "cell_type": "code",
      "metadata": {
        "id": "4jH3twDKwL-k",
        "colab": {
          "base_uri": "https://localhost:8080/",
          "height": 35
        },
        "outputId": "5771d5d8-ed28-4900-9428-68082bc9be32"
      },
      "source": [
        "d_token=[line.strip() for line in open('/content/word2vec.news.negative-sample.300d.txt')]\r\n",
        "d_token[5]"
      ],
      "execution_count": null,
      "outputs": [
        {
          "output_type": "execute_result",
          "data": {
            "application/vnd.google.colaboratory.intrinsic+json": {
              "type": "string"
            },
            "text/plain": [
              "'on'"
            ]
          },
          "metadata": {
            "tags": []
          },
          "execution_count": 10
        }
      ]
    },
    {
      "cell_type": "code",
      "metadata": {
        "colab": {
          "base_uri": "https://localhost:8080/"
        },
        "id": "0GpOYgG4lLWm",
        "outputId": "a80bf4d1-6fcc-40b4-c0e4-5c7149c5fc1a"
      },
      "source": [
        "query=str(input())\r\n",
        "embedding_matrix=np.zeros((len(query.split()),300))\r\n",
        "\r\n",
        "for i,word in enumerate(query.split()):\r\n",
        "  if word in d_token:\r\n",
        "    embedding_vector=embedding[d_token.index(word.lower())]\r\n",
        "    embedding_matrix[i]=embedding_vector\r\n",
        "  else:\r\n",
        "    embedding_matrix[i]=np.array([0]*300)"
      ],
      "execution_count": null,
      "outputs": [
        {
          "output_type": "stream",
          "text": [
            "who are you\n"
          ],
          "name": "stdout"
        }
      ]
    },
    {
      "cell_type": "code",
      "metadata": {
        "id": "kq5tgCZ9lpas",
        "colab": {
          "base_uri": "https://localhost:8080/"
        },
        "outputId": "286e2867-870f-4ef6-e02d-bea300f9b884"
      },
      "source": [
        "embedding_matrix.shape"
      ],
      "execution_count": null,
      "outputs": [
        {
          "output_type": "execute_result",
          "data": {
            "text/plain": [
              "(3, 300)"
            ]
          },
          "metadata": {
            "tags": []
          },
          "execution_count": 12
        }
      ]
    },
    {
      "cell_type": "code",
      "metadata": {
        "id": "_G5AHmxmlrS0"
      },
      "source": [
        "score=sum(np.add.reduce(embedding_matrix,axis=1))/len(query.split())"
      ],
      "execution_count": null,
      "outputs": []
    },
    {
      "cell_type": "code",
      "metadata": {
        "colab": {
          "base_uri": "https://localhost:8080/"
        },
        "id": "e0a9R0kzFtUN",
        "outputId": "934500d5-835e-42a2-e43a-c926fb0a3f4c"
      },
      "source": [
        "score"
      ],
      "execution_count": null,
      "outputs": [
        {
          "output_type": "execute_result",
          "data": {
            "text/plain": [
              "-0.4509042104085286"
            ]
          },
          "metadata": {
            "tags": []
          },
          "execution_count": 14
        }
      ]
    },
    {
      "cell_type": "code",
      "metadata": {
        "id": "iQIuQqq_rmeW"
      },
      "source": [
        "import pandas as pd"
      ],
      "execution_count": null,
      "outputs": []
    },
    {
      "cell_type": "code",
      "metadata": {
        "id": "du6ql3eUF1de",
        "colab": {
          "base_uri": "https://localhost:8080/",
          "height": 195
        },
        "outputId": "206d5c3b-0eb7-4ed9-e053-bb194d95f3e9"
      },
      "source": [
        "# for QA score to find cosine similarity between different questions and query\r\n",
        "#calculate this score for every question present in the database(Quora question pairs)\r\n",
        "\r\n",
        "df=pd.read_csv('/content/drive/MyDrive/Data/quora duplicate identification/train.csv')\r\n",
        "df.head()\r\n"
      ],
      "execution_count": null,
      "outputs": [
        {
          "output_type": "execute_result",
          "data": {
            "text/html": [
              "<div>\n",
              "<style scoped>\n",
              "    .dataframe tbody tr th:only-of-type {\n",
              "        vertical-align: middle;\n",
              "    }\n",
              "\n",
              "    .dataframe tbody tr th {\n",
              "        vertical-align: top;\n",
              "    }\n",
              "\n",
              "    .dataframe thead th {\n",
              "        text-align: right;\n",
              "    }\n",
              "</style>\n",
              "<table border=\"1\" class=\"dataframe\">\n",
              "  <thead>\n",
              "    <tr style=\"text-align: right;\">\n",
              "      <th></th>\n",
              "      <th>id</th>\n",
              "      <th>qid1</th>\n",
              "      <th>qid2</th>\n",
              "      <th>question1</th>\n",
              "      <th>question2</th>\n",
              "      <th>is_duplicate</th>\n",
              "    </tr>\n",
              "  </thead>\n",
              "  <tbody>\n",
              "    <tr>\n",
              "      <th>0</th>\n",
              "      <td>0</td>\n",
              "      <td>1</td>\n",
              "      <td>2</td>\n",
              "      <td>What is the step by step guide to invest in sh...</td>\n",
              "      <td>What is the step by step guide to invest in sh...</td>\n",
              "      <td>0</td>\n",
              "    </tr>\n",
              "    <tr>\n",
              "      <th>1</th>\n",
              "      <td>1</td>\n",
              "      <td>3</td>\n",
              "      <td>4</td>\n",
              "      <td>What is the story of Kohinoor (Koh-i-Noor) Dia...</td>\n",
              "      <td>What would happen if the Indian government sto...</td>\n",
              "      <td>0</td>\n",
              "    </tr>\n",
              "    <tr>\n",
              "      <th>2</th>\n",
              "      <td>2</td>\n",
              "      <td>5</td>\n",
              "      <td>6</td>\n",
              "      <td>How can I increase the speed of my internet co...</td>\n",
              "      <td>How can Internet speed be increased by hacking...</td>\n",
              "      <td>0</td>\n",
              "    </tr>\n",
              "    <tr>\n",
              "      <th>3</th>\n",
              "      <td>3</td>\n",
              "      <td>7</td>\n",
              "      <td>8</td>\n",
              "      <td>Why am I mentally very lonely? How can I solve...</td>\n",
              "      <td>Find the remainder when [math]23^{24}[/math] i...</td>\n",
              "      <td>0</td>\n",
              "    </tr>\n",
              "    <tr>\n",
              "      <th>4</th>\n",
              "      <td>4</td>\n",
              "      <td>9</td>\n",
              "      <td>10</td>\n",
              "      <td>Which one dissolve in water quikly sugar, salt...</td>\n",
              "      <td>Which fish would survive in salt water?</td>\n",
              "      <td>0</td>\n",
              "    </tr>\n",
              "  </tbody>\n",
              "</table>\n",
              "</div>"
            ],
            "text/plain": [
              "   id  qid1  ...                                          question2 is_duplicate\n",
              "0   0     1  ...  What is the step by step guide to invest in sh...            0\n",
              "1   1     3  ...  What would happen if the Indian government sto...            0\n",
              "2   2     5  ...  How can Internet speed be increased by hacking...            0\n",
              "3   3     7  ...  Find the remainder when [math]23^{24}[/math] i...            0\n",
              "4   4     9  ...            Which fish would survive in salt water?            0\n",
              "\n",
              "[5 rows x 6 columns]"
            ]
          },
          "metadata": {
            "tags": []
          },
          "execution_count": 16
        }
      ]
    },
    {
      "cell_type": "code",
      "metadata": {
        "id": "5yLY4H7q5sxt"
      },
      "source": [
        "df=df.dropna()"
      ],
      "execution_count": null,
      "outputs": []
    },
    {
      "cell_type": "code",
      "metadata": {
        "colab": {
          "base_uri": "https://localhost:8080/",
          "height": 402
        },
        "id": "DMgneM_P57kA",
        "outputId": "2fb767db-0f08-4b38-d202-f66c68062d88"
      },
      "source": [
        "pd.DataFrame(df['question1'])"
      ],
      "execution_count": null,
      "outputs": [
        {
          "output_type": "execute_result",
          "data": {
            "text/html": [
              "<div>\n",
              "<style scoped>\n",
              "    .dataframe tbody tr th:only-of-type {\n",
              "        vertical-align: middle;\n",
              "    }\n",
              "\n",
              "    .dataframe tbody tr th {\n",
              "        vertical-align: top;\n",
              "    }\n",
              "\n",
              "    .dataframe thead th {\n",
              "        text-align: right;\n",
              "    }\n",
              "</style>\n",
              "<table border=\"1\" class=\"dataframe\">\n",
              "  <thead>\n",
              "    <tr style=\"text-align: right;\">\n",
              "      <th></th>\n",
              "      <th>question1</th>\n",
              "    </tr>\n",
              "  </thead>\n",
              "  <tbody>\n",
              "    <tr>\n",
              "      <th>0</th>\n",
              "      <td>What is the step by step guide to invest in sh...</td>\n",
              "    </tr>\n",
              "    <tr>\n",
              "      <th>1</th>\n",
              "      <td>What is the story of Kohinoor (Koh-i-Noor) Dia...</td>\n",
              "    </tr>\n",
              "    <tr>\n",
              "      <th>2</th>\n",
              "      <td>How can I increase the speed of my internet co...</td>\n",
              "    </tr>\n",
              "    <tr>\n",
              "      <th>3</th>\n",
              "      <td>Why am I mentally very lonely? How can I solve...</td>\n",
              "    </tr>\n",
              "    <tr>\n",
              "      <th>4</th>\n",
              "      <td>Which one dissolve in water quikly sugar, salt...</td>\n",
              "    </tr>\n",
              "    <tr>\n",
              "      <th>...</th>\n",
              "      <td>...</td>\n",
              "    </tr>\n",
              "    <tr>\n",
              "      <th>404285</th>\n",
              "      <td>How many keywords are there in the Racket prog...</td>\n",
              "    </tr>\n",
              "    <tr>\n",
              "      <th>404286</th>\n",
              "      <td>Do you believe there is life after death?</td>\n",
              "    </tr>\n",
              "    <tr>\n",
              "      <th>404287</th>\n",
              "      <td>What is one coin?</td>\n",
              "    </tr>\n",
              "    <tr>\n",
              "      <th>404288</th>\n",
              "      <td>What is the approx annual cost of living while...</td>\n",
              "    </tr>\n",
              "    <tr>\n",
              "      <th>404289</th>\n",
              "      <td>What is like to have sex with cousin?</td>\n",
              "    </tr>\n",
              "  </tbody>\n",
              "</table>\n",
              "<p>404287 rows × 1 columns</p>\n",
              "</div>"
            ],
            "text/plain": [
              "                                                question1\n",
              "0       What is the step by step guide to invest in sh...\n",
              "1       What is the story of Kohinoor (Koh-i-Noor) Dia...\n",
              "2       How can I increase the speed of my internet co...\n",
              "3       Why am I mentally very lonely? How can I solve...\n",
              "4       Which one dissolve in water quikly sugar, salt...\n",
              "...                                                   ...\n",
              "404285  How many keywords are there in the Racket prog...\n",
              "404286          Do you believe there is life after death?\n",
              "404287                                  What is one coin?\n",
              "404288  What is the approx annual cost of living while...\n",
              "404289              What is like to have sex with cousin?\n",
              "\n",
              "[404287 rows x 1 columns]"
            ]
          },
          "metadata": {
            "tags": []
          },
          "execution_count": 18
        }
      ]
    },
    {
      "cell_type": "code",
      "metadata": {
        "id": "np9ItKYP3w47"
      },
      "source": [
        "x1_data=list(df['question1'].values)\r\n",
        "x2_data=list(df['question2'].values)"
      ],
      "execution_count": null,
      "outputs": []
    },
    {
      "cell_type": "code",
      "metadata": {
        "colab": {
          "base_uri": "https://localhost:8080/"
        },
        "id": "tC3AklGdBUcJ",
        "outputId": "6807e0e2-fcfc-4f7c-f3dd-6d15aa1e3405"
      },
      "source": [
        "list(x1_data[:3])"
      ],
      "execution_count": null,
      "outputs": [
        {
          "output_type": "execute_result",
          "data": {
            "text/plain": [
              "['What is the step by step guide to invest in share market in india?',\n",
              " 'What is the story of Kohinoor (Koh-i-Noor) Diamond?',\n",
              " 'How can I increase the speed of my internet connection while using a VPN?']"
            ]
          },
          "metadata": {
            "tags": []
          },
          "execution_count": 20
        }
      ]
    },
    {
      "cell_type": "code",
      "metadata": {
        "id": "OHJPRihB7Ksp"
      },
      "source": [
        "x1_data[len(x1_data):]=x2_data"
      ],
      "execution_count": null,
      "outputs": []
    },
    {
      "cell_type": "code",
      "metadata": {
        "colab": {
          "base_uri": "https://localhost:8080/"
        },
        "id": "LyWZD7rCAzLc",
        "outputId": "014964d3-84de-4348-da0f-db6f5a78204e"
      },
      "source": [
        "len(x1_data)"
      ],
      "execution_count": null,
      "outputs": [
        {
          "output_type": "execute_result",
          "data": {
            "text/plain": [
              "808574"
            ]
          },
          "metadata": {
            "tags": []
          },
          "execution_count": 22
        }
      ]
    },
    {
      "cell_type": "code",
      "metadata": {
        "id": "Eoad0lrHzhyC"
      },
      "source": [
        "q_embedding_matrix=np.zeros((len(x1_data),300))\r\n",
        "embedding_data=[]\r\n",
        "question_embedding={}"
      ],
      "execution_count": null,
      "outputs": []
    },
    {
      "cell_type": "code",
      "metadata": {
        "id": "ECHT5tjK_OZj"
      },
      "source": [
        "# some regex based cleaning\r\n",
        "import re\r\n",
        "\r\n",
        "def regex_clean(text):\r\n",
        "  text=re.sub(r'[^\\w\\s]', '',text)               # texts without punctuation  \\ used just in case if alpha-numeric characters has to be replaced for beteer replacements\r\n",
        "  text=re.sub(r'[^A-Za-z0-9]+', ' ', text)       # texts contains only alpha-numeric characters\r\n",
        "  text=re.sub('  ', '', text)                    # removing an extra spaces\r\n",
        "  text=re.sub('   ','',text)                     # removing two extra spaces\r\n",
        "  return text"
      ],
      "execution_count": null,
      "outputs": []
    },
    {
      "cell_type": "code",
      "metadata": {
        "id": "7bnNbrhA_Pnu"
      },
      "source": [
        "x_data=[regex_clean(ques) for ques in x1_data]"
      ],
      "execution_count": null,
      "outputs": []
    },
    {
      "cell_type": "code",
      "metadata": {
        "id": "9xcOYwQ-rjz-"
      },
      "source": [
        "for i,ques in enumerate(x_data[:10000]):\r\n",
        "  # if s==0:\r\n",
        "  #   quesbank=[q1,q2]\r\n",
        "  #   for ques in quesbank:\r\n",
        "  #     q=ques.split()\r\n",
        "  #     for word in q:\r\n",
        "  #       q_embedding_vector=embedding[d_token.index(word)]\r\n",
        "  #       q_embedding[word]=np.array(q_embedding_vector)\r\n",
        "  #     question.append(tuple(f'q{n}',q_embedding)\r\n",
        "  #     q_embedding={}\r\n",
        "  #     n+=1\r\n",
        "\r\n",
        "  # else:\r\n",
        "    q=ques.split()\r\n",
        "    for word in q:\r\n",
        "      if word in d_token:\r\n",
        "        q_embedding_vector=embedding[d_token.index(word)]\r\n",
        "        q_embedding_matrix[i]=q_embedding_vector\r\n",
        "      else:\r\n",
        "        q_embedding_matrix[i]=np.array([0]*300)\r\n",
        "      embedding_data.append(q_embedding_matrix[i])\r\n",
        "    question_embedding[ques]=np.array(embedding_data)\r\n",
        "    embedding_data=[]\r\n",
        "        \r\n",
        "  "
      ],
      "execution_count": null,
      "outputs": []
    },
    {
      "cell_type": "code",
      "metadata": {
        "colab": {
          "base_uri": "https://localhost:8080/"
        },
        "id": "X08EQKog9Tzr",
        "outputId": "6ac218a4-bbcf-46b4-ca06-055ac3f0ed9c"
      },
      "source": [
        "question_embedding[x_data[0]]"
      ],
      "execution_count": null,
      "outputs": [
        {
          "output_type": "execute_result",
          "data": {
            "text/plain": [
              "array([[-0.234375  , -0.07177734,  0.01055908, ..., -0.09521484,\n",
              "        -0.11621094, -0.11230469],\n",
              "       [-0.234375  , -0.07177734,  0.01055908, ..., -0.09521484,\n",
              "        -0.11621094, -0.11230469],\n",
              "       [-0.234375  , -0.07177734,  0.01055908, ..., -0.09521484,\n",
              "        -0.11621094, -0.11230469],\n",
              "       ...,\n",
              "       [-0.234375  , -0.07177734,  0.01055908, ..., -0.09521484,\n",
              "        -0.11621094, -0.11230469],\n",
              "       [-0.234375  , -0.07177734,  0.01055908, ..., -0.09521484,\n",
              "        -0.11621094, -0.11230469],\n",
              "       [-0.234375  , -0.07177734,  0.01055908, ..., -0.09521484,\n",
              "        -0.11621094, -0.11230469]])"
            ]
          },
          "metadata": {
            "tags": []
          },
          "execution_count": 33
        }
      ]
    },
    {
      "cell_type": "code",
      "metadata": {
        "colab": {
          "base_uri": "https://localhost:8080/"
        },
        "id": "xDNv9QlOFp0H",
        "outputId": "bc8289ad-81e2-464b-fb08-dec9c255f4b5"
      },
      "source": [
        "d_score=sum(np.add.reduce(question_embedding[x_data[0]],axis=1)/len(x_data[0].split()))\r\n",
        "d_score"
      ],
      "execution_count": null,
      "outputs": [
        {
          "output_type": "execute_result",
          "data": {
            "text/plain": [
              "-9.012670516967775"
            ]
          },
          "metadata": {
            "tags": []
          },
          "execution_count": 34
        }
      ]
    },
    {
      "cell_type": "code",
      "metadata": {
        "colab": {
          "base_uri": "https://localhost:8080/"
        },
        "id": "Ccnhvw6fF1-a",
        "outputId": "ae4e8b54-95e7-4e88-9ac7-a327fd4fcb1a"
      },
      "source": [
        "np.add.reduce([[1,2],[1,2]])"
      ],
      "execution_count": null,
      "outputs": [
        {
          "output_type": "execute_result",
          "data": {
            "text/plain": [
              "array([2, 4])"
            ]
          },
          "metadata": {
            "tags": []
          },
          "execution_count": 35
        }
      ]
    },
    {
      "cell_type": "code",
      "metadata": {
        "id": "W9H1SH8-xJum"
      },
      "source": [
        "#cosine similarity check for first 10 ques\r\n",
        "sim_score=[]\r\n",
        "for i in range(len(x_data[:10])):\r\n",
        "  d_score=sum(np.add.reduce(question_embedding[x_data[i]])/len(x_data[i].split()))\r\n",
        "  sim=np.dot(score,d_score)\r\n",
        "  sim_score.append(sim)"
      ],
      "execution_count": null,
      "outputs": []
    },
    {
      "cell_type": "code",
      "metadata": {
        "colab": {
          "base_uri": "https://localhost:8080/"
        },
        "id": "P60p6KsGFXXv",
        "outputId": "ae9f1eaa-fb49-4441-87b8-c02bde81c501"
      },
      "source": [
        "sim_score"
      ],
      "execution_count": null,
      "outputs": [
        {
          "output_type": "execute_result",
          "data": {
            "text/plain": [
              "[4.063851083125579,\n",
              " 1.601361506836838,\n",
              " 3.1603268994076643,\n",
              " 0.5772910038213013,\n",
              " 1.180488952406146,\n",
              " 0.5253270387923596,\n",
              " -0.0,\n",
              " -0.8289431095327018,\n",
              " -0.0,\n",
              " -0.0]"
            ]
          },
          "metadata": {
            "tags": []
          },
          "execution_count": 31
        }
      ]
    },
    {
      "cell_type": "code",
      "metadata": {
        "id": "6eWl_QJgFYrd"
      },
      "source": [
        ""
      ],
      "execution_count": null,
      "outputs": []
    }
  ]
}