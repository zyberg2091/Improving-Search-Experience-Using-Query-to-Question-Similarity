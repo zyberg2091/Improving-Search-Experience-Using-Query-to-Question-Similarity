{
  "nbformat": 4,
  "nbformat_minor": 0,
  "metadata": {
    "colab": {
      "name": "Model 1 (QQP benchmark)",
      "provenance": [],
      "collapsed_sections": [],
      "toc_visible": true
    },
    "kernelspec": {
      "name": "python3",
      "display_name": "Python 3"
    },
    "accelerator": "GPU"
  },
  "cells": [
    {
      "cell_type": "markdown",
      "metadata": {
        "id": "os-U4ChOzAZy"
      },
      "source": [
        "# Method **1**\r\n",
        "\r\n",
        "**Siamese model on benchmark dataset**"
      ]
    },
    {
      "cell_type": "code",
      "metadata": {
        "colab": {
          "base_uri": "https://localhost:8080/"
        },
        "id": "G03Pyj1pzD-_",
        "outputId": "1f68af0e-ae38-4653-aa17-b15700daa411"
      },
      "source": [
        "\n",
        "import tensorflow as tf\n",
        "print(tf.__version__)\n",
        "\n",
        "import pandas as pd\n",
        "import numpy as np\n",
        "from tensorflow.keras.layers import Dense,Input,Embedding,Bidirectional,LSTM,Lambda,Reshape\n",
        "from tensorflow.keras.models import Model"
      ],
      "execution_count": 1,
      "outputs": [
        {
          "output_type": "stream",
          "text": [
            "2.4.1\n"
          ],
          "name": "stdout"
        }
      ]
    },
    {
      "cell_type": "code",
      "metadata": {
        "colab": {
          "base_uri": "https://localhost:8080/",
          "height": 35
        },
        "id": "Q73WjCafVkcH",
        "outputId": "f9041fa5-f09a-4961-e1b9-ee2cd609680f"
      },
      "source": [
        "tf.test.gpu_device_name()"
      ],
      "execution_count": 2,
      "outputs": [
        {
          "output_type": "execute_result",
          "data": {
            "application/vnd.google.colaboratory.intrinsic+json": {
              "type": "string"
            },
            "text/plain": [
              "'/device:GPU:0'"
            ]
          },
          "metadata": {
            "tags": []
          },
          "execution_count": 2
        }
      ]
    },
    {
      "cell_type": "code",
      "metadata": {
        "id": "mZQ0IUa-zlpl",
        "colab": {
          "base_uri": "https://localhost:8080/",
          "height": 195
        },
        "outputId": "49b2babf-6da2-4dcd-d64b-e98c96400dc2"
      },
      "source": [
        "# Date : 24.01.2021\r\n",
        "\r\n",
        "\r\n",
        "df=pd.read_csv('/content/drive/MyDrive/Data/quora duplicate identification/train.csv',header=0)\r\n",
        "df.head()"
      ],
      "execution_count": 3,
      "outputs": [
        {
          "output_type": "execute_result",
          "data": {
            "text/html": [
              "<div>\n",
              "<style scoped>\n",
              "    .dataframe tbody tr th:only-of-type {\n",
              "        vertical-align: middle;\n",
              "    }\n",
              "\n",
              "    .dataframe tbody tr th {\n",
              "        vertical-align: top;\n",
              "    }\n",
              "\n",
              "    .dataframe thead th {\n",
              "        text-align: right;\n",
              "    }\n",
              "</style>\n",
              "<table border=\"1\" class=\"dataframe\">\n",
              "  <thead>\n",
              "    <tr style=\"text-align: right;\">\n",
              "      <th></th>\n",
              "      <th>id</th>\n",
              "      <th>qid1</th>\n",
              "      <th>qid2</th>\n",
              "      <th>question1</th>\n",
              "      <th>question2</th>\n",
              "      <th>is_duplicate</th>\n",
              "    </tr>\n",
              "  </thead>\n",
              "  <tbody>\n",
              "    <tr>\n",
              "      <th>0</th>\n",
              "      <td>0</td>\n",
              "      <td>1</td>\n",
              "      <td>2</td>\n",
              "      <td>What is the step by step guide to invest in sh...</td>\n",
              "      <td>What is the step by step guide to invest in sh...</td>\n",
              "      <td>0</td>\n",
              "    </tr>\n",
              "    <tr>\n",
              "      <th>1</th>\n",
              "      <td>1</td>\n",
              "      <td>3</td>\n",
              "      <td>4</td>\n",
              "      <td>What is the story of Kohinoor (Koh-i-Noor) Dia...</td>\n",
              "      <td>What would happen if the Indian government sto...</td>\n",
              "      <td>0</td>\n",
              "    </tr>\n",
              "    <tr>\n",
              "      <th>2</th>\n",
              "      <td>2</td>\n",
              "      <td>5</td>\n",
              "      <td>6</td>\n",
              "      <td>How can I increase the speed of my internet co...</td>\n",
              "      <td>How can Internet speed be increased by hacking...</td>\n",
              "      <td>0</td>\n",
              "    </tr>\n",
              "    <tr>\n",
              "      <th>3</th>\n",
              "      <td>3</td>\n",
              "      <td>7</td>\n",
              "      <td>8</td>\n",
              "      <td>Why am I mentally very lonely? How can I solve...</td>\n",
              "      <td>Find the remainder when [math]23^{24}[/math] i...</td>\n",
              "      <td>0</td>\n",
              "    </tr>\n",
              "    <tr>\n",
              "      <th>4</th>\n",
              "      <td>4</td>\n",
              "      <td>9</td>\n",
              "      <td>10</td>\n",
              "      <td>Which one dissolve in water quikly sugar, salt...</td>\n",
              "      <td>Which fish would survive in salt water?</td>\n",
              "      <td>0</td>\n",
              "    </tr>\n",
              "  </tbody>\n",
              "</table>\n",
              "</div>"
            ],
            "text/plain": [
              "   id  qid1  ...                                          question2 is_duplicate\n",
              "0   0     1  ...  What is the step by step guide to invest in sh...            0\n",
              "1   1     3  ...  What would happen if the Indian government sto...            0\n",
              "2   2     5  ...  How can Internet speed be increased by hacking...            0\n",
              "3   3     7  ...  Find the remainder when [math]23^{24}[/math] i...            0\n",
              "4   4     9  ...            Which fish would survive in salt water?            0\n",
              "\n",
              "[5 rows x 6 columns]"
            ]
          },
          "metadata": {
            "tags": []
          },
          "execution_count": 3
        }
      ]
    },
    {
      "cell_type": "code",
      "metadata": {
        "colab": {
          "base_uri": "https://localhost:8080/"
        },
        "id": "RVCWe0nOlyjd",
        "outputId": "414ca187-ff7d-460d-f605-290a81af34e7"
      },
      "source": [
        "#some exploration\r\n",
        "\r\n",
        "df.info()"
      ],
      "execution_count": 4,
      "outputs": [
        {
          "output_type": "stream",
          "text": [
            "<class 'pandas.core.frame.DataFrame'>\n",
            "RangeIndex: 404290 entries, 0 to 404289\n",
            "Data columns (total 6 columns):\n",
            " #   Column        Non-Null Count   Dtype \n",
            "---  ------        --------------   ----- \n",
            " 0   id            404290 non-null  int64 \n",
            " 1   qid1          404290 non-null  int64 \n",
            " 2   qid2          404290 non-null  int64 \n",
            " 3   question1     404289 non-null  object\n",
            " 4   question2     404288 non-null  object\n",
            " 5   is_duplicate  404290 non-null  int64 \n",
            "dtypes: int64(4), object(2)\n",
            "memory usage: 18.5+ MB\n"
          ],
          "name": "stdout"
        }
      ]
    },
    {
      "cell_type": "code",
      "metadata": {
        "colab": {
          "base_uri": "https://localhost:8080/"
        },
        "id": "TgJWm6VJmIs6",
        "outputId": "43a53d4f-f825-4f91-fd1c-5a07269628b2"
      },
      "source": [
        "len(df['qid1'].unique()),len(df['qid2'].unique())"
      ],
      "execution_count": 5,
      "outputs": [
        {
          "output_type": "execute_result",
          "data": {
            "text/plain": [
              "(290654, 299364)"
            ]
          },
          "metadata": {
            "tags": []
          },
          "execution_count": 5
        }
      ]
    },
    {
      "cell_type": "code",
      "metadata": {
        "colab": {
          "base_uri": "https://localhost:8080/"
        },
        "id": "4C879lfaulIy",
        "outputId": "ed1a1a8c-dfe2-4ea4-9d62-3339172c48fd"
      },
      "source": [
        "print(f'No. of questions common in both ids {len(np.intersect1d(df.qid1.values,df.qid2.values))}')"
      ],
      "execution_count": 6,
      "outputs": [
        {
          "output_type": "stream",
          "text": [
            "No. of questions common in both ids 52085\n"
          ],
          "name": "stdout"
        }
      ]
    },
    {
      "cell_type": "code",
      "metadata": {
        "colab": {
          "base_uri": "https://localhost:8080/"
        },
        "id": "xHJooeKxu-3u",
        "outputId": "867dda26-0390-4cee-df25-91592c5970ca"
      },
      "source": [
        "print(f'Therefore total no. of unique questions are {len(df.qid1.unique())+len(df.qid2.unique())-len(np.intersect1d(df.qid1.values,df.qid2.values))}')\r\n",
        "\r\n"
      ],
      "execution_count": 7,
      "outputs": [
        {
          "output_type": "stream",
          "text": [
            "Therefore total no. of unique questions are 537933\n"
          ],
          "name": "stdout"
        }
      ]
    },
    {
      "cell_type": "code",
      "metadata": {
        "id": "GlNzGVolv36v"
      },
      "source": [
        "df=df.dropna()"
      ],
      "execution_count": 8,
      "outputs": []
    },
    {
      "cell_type": "code",
      "metadata": {
        "colab": {
          "base_uri": "https://localhost:8080/"
        },
        "id": "QDF8F16pyAHX",
        "outputId": "ced6287e-f36c-44ac-8a77-f4d749beacda"
      },
      "source": [
        "df.info()"
      ],
      "execution_count": 9,
      "outputs": [
        {
          "output_type": "stream",
          "text": [
            "<class 'pandas.core.frame.DataFrame'>\n",
            "Int64Index: 404287 entries, 0 to 404289\n",
            "Data columns (total 6 columns):\n",
            " #   Column        Non-Null Count   Dtype \n",
            "---  ------        --------------   ----- \n",
            " 0   id            404287 non-null  int64 \n",
            " 1   qid1          404287 non-null  int64 \n",
            " 2   qid2          404287 non-null  int64 \n",
            " 3   question1     404287 non-null  object\n",
            " 4   question2     404287 non-null  object\n",
            " 5   is_duplicate  404287 non-null  int64 \n",
            "dtypes: int64(4), object(2)\n",
            "memory usage: 21.6+ MB\n"
          ],
          "name": "stdout"
        }
      ]
    },
    {
      "cell_type": "code",
      "metadata": {
        "id": "qc6-9Fg9yBeX"
      },
      "source": [
        "#basic text cleanising\r\n",
        "\r\n",
        "x1=df['question1'].values\r\n",
        "x2=df['question2'].values"
      ],
      "execution_count": 10,
      "outputs": []
    },
    {
      "cell_type": "code",
      "metadata": {
        "colab": {
          "base_uri": "https://localhost:8080/"
        },
        "id": "Vst5_Srxy2_X",
        "outputId": "282b5066-fba5-49f1-911c-7973fde9c173"
      },
      "source": [
        "x1[:10]"
      ],
      "execution_count": 11,
      "outputs": [
        {
          "output_type": "execute_result",
          "data": {
            "text/plain": [
              "array(['What is the step by step guide to invest in share market in india?',\n",
              "       'What is the story of Kohinoor (Koh-i-Noor) Diamond?',\n",
              "       'How can I increase the speed of my internet connection while using a VPN?',\n",
              "       'Why am I mentally very lonely? How can I solve it?',\n",
              "       'Which one dissolve in water quikly sugar, salt, methane and carbon di oxide?',\n",
              "       'Astrology: I am a Capricorn Sun Cap moon and cap rising...what does that say about me?',\n",
              "       'Should I buy tiago?', 'How can I be a good geologist?',\n",
              "       'When do you use シ instead of し?',\n",
              "       'Motorola (company): Can I hack my Charter Motorolla DCX3400?'],\n",
              "      dtype=object)"
            ]
          },
          "metadata": {
            "tags": []
          },
          "execution_count": 11
        }
      ]
    },
    {
      "cell_type": "code",
      "metadata": {
        "id": "C9rP49h4y4fb"
      },
      "source": [
        "x1,x2=[i.lower() for i in x1],[i.lower() for i in x2]"
      ],
      "execution_count": 12,
      "outputs": []
    },
    {
      "cell_type": "code",
      "metadata": {
        "colab": {
          "base_uri": "https://localhost:8080/"
        },
        "id": "GSsagzGQ0JZy",
        "outputId": "0adf28ea-2619-4de3-b0fc-685535cff7f1"
      },
      "source": [
        "x1[:10]"
      ],
      "execution_count": 13,
      "outputs": [
        {
          "output_type": "execute_result",
          "data": {
            "text/plain": [
              "['what is the step by step guide to invest in share market in india?',\n",
              " 'what is the story of kohinoor (koh-i-noor) diamond?',\n",
              " 'how can i increase the speed of my internet connection while using a vpn?',\n",
              " 'why am i mentally very lonely? how can i solve it?',\n",
              " 'which one dissolve in water quikly sugar, salt, methane and carbon di oxide?',\n",
              " 'astrology: i am a capricorn sun cap moon and cap rising...what does that say about me?',\n",
              " 'should i buy tiago?',\n",
              " 'how can i be a good geologist?',\n",
              " 'when do you use シ instead of し?',\n",
              " 'motorola (company): can i hack my charter motorolla dcx3400?']"
            ]
          },
          "metadata": {
            "tags": []
          },
          "execution_count": 13
        }
      ]
    },
    {
      "cell_type": "code",
      "metadata": {
        "id": "6esfh8-w0LeE"
      },
      "source": [
        "# some regex based cleaning\r\n",
        "import re\r\n",
        "\r\n",
        "def regex_clean(text):\r\n",
        "  text=re.sub(r'[^\\w\\s]', '',text)               # texts without punctuation  \\ used just in case if alpha-numeric characters has to be replaced for beteer replacements\r\n",
        "  text=re.sub(r'[^A-Za-z0-9]+', ' ', text)       # texts contains only alpha-numeric characters\r\n",
        "  text=re.sub('  ', '', text)                    # removing an extra spaces\r\n",
        "  text=re.sub('   ','',text)                     # removing two extra spaces\r\n",
        "  return text"
      ],
      "execution_count": 14,
      "outputs": []
    },
    {
      "cell_type": "code",
      "metadata": {
        "colab": {
          "base_uri": "https://localhost:8080/"
        },
        "id": "K7hDCAm2twkV",
        "outputId": "ef8302e5-2c8e-40a6-9abf-8a198e47aa43"
      },
      "source": [
        "#for normalized scores\r\n",
        "\r\n",
        "!python -m spacy download en_core_web_sm"
      ],
      "execution_count": 15,
      "outputs": [
        {
          "output_type": "stream",
          "text": [
            "Requirement already satisfied: en_core_web_sm==2.2.5 from https://github.com/explosion/spacy-models/releases/download/en_core_web_sm-2.2.5/en_core_web_sm-2.2.5.tar.gz#egg=en_core_web_sm==2.2.5 in /usr/local/lib/python3.6/dist-packages (2.2.5)\n",
            "Requirement already satisfied: spacy>=2.2.2 in /usr/local/lib/python3.6/dist-packages (from en_core_web_sm==2.2.5) (2.2.4)\n",
            "Requirement already satisfied: blis<0.5.0,>=0.4.0 in /usr/local/lib/python3.6/dist-packages (from spacy>=2.2.2->en_core_web_sm==2.2.5) (0.4.1)\n",
            "Requirement already satisfied: thinc==7.4.0 in /usr/local/lib/python3.6/dist-packages (from spacy>=2.2.2->en_core_web_sm==2.2.5) (7.4.0)\n",
            "Requirement already satisfied: murmurhash<1.1.0,>=0.28.0 in /usr/local/lib/python3.6/dist-packages (from spacy>=2.2.2->en_core_web_sm==2.2.5) (1.0.5)\n",
            "Requirement already satisfied: wasabi<1.1.0,>=0.4.0 in /usr/local/lib/python3.6/dist-packages (from spacy>=2.2.2->en_core_web_sm==2.2.5) (0.8.1)\n",
            "Requirement already satisfied: preshed<3.1.0,>=3.0.2 in /usr/local/lib/python3.6/dist-packages (from spacy>=2.2.2->en_core_web_sm==2.2.5) (3.0.5)\n",
            "Requirement already satisfied: catalogue<1.1.0,>=0.0.7 in /usr/local/lib/python3.6/dist-packages (from spacy>=2.2.2->en_core_web_sm==2.2.5) (1.0.0)\n",
            "Requirement already satisfied: srsly<1.1.0,>=1.0.2 in /usr/local/lib/python3.6/dist-packages (from spacy>=2.2.2->en_core_web_sm==2.2.5) (1.0.5)\n",
            "Requirement already satisfied: plac<1.2.0,>=0.9.6 in /usr/local/lib/python3.6/dist-packages (from spacy>=2.2.2->en_core_web_sm==2.2.5) (1.1.3)\n",
            "Requirement already satisfied: setuptools in /usr/local/lib/python3.6/dist-packages (from spacy>=2.2.2->en_core_web_sm==2.2.5) (53.0.0)\n",
            "Requirement already satisfied: cymem<2.1.0,>=2.0.2 in /usr/local/lib/python3.6/dist-packages (from spacy>=2.2.2->en_core_web_sm==2.2.5) (2.0.5)\n",
            "Requirement already satisfied: tqdm<5.0.0,>=4.38.0 in /usr/local/lib/python3.6/dist-packages (from spacy>=2.2.2->en_core_web_sm==2.2.5) (4.41.1)\n",
            "Requirement already satisfied: numpy>=1.15.0 in /usr/local/lib/python3.6/dist-packages (from spacy>=2.2.2->en_core_web_sm==2.2.5) (1.19.5)\n",
            "Requirement already satisfied: requests<3.0.0,>=2.13.0 in /usr/local/lib/python3.6/dist-packages (from spacy>=2.2.2->en_core_web_sm==2.2.5) (2.23.0)\n",
            "Requirement already satisfied: importlib-metadata>=0.20; python_version < \"3.8\" in /usr/local/lib/python3.6/dist-packages (from catalogue<1.1.0,>=0.0.7->spacy>=2.2.2->en_core_web_sm==2.2.5) (3.4.0)\n",
            "Requirement already satisfied: idna<3,>=2.5 in /usr/local/lib/python3.6/dist-packages (from requests<3.0.0,>=2.13.0->spacy>=2.2.2->en_core_web_sm==2.2.5) (2.10)\n",
            "Requirement already satisfied: urllib3!=1.25.0,!=1.25.1,<1.26,>=1.21.1 in /usr/local/lib/python3.6/dist-packages (from requests<3.0.0,>=2.13.0->spacy>=2.2.2->en_core_web_sm==2.2.5) (1.24.3)\n",
            "Requirement already satisfied: chardet<4,>=3.0.2 in /usr/local/lib/python3.6/dist-packages (from requests<3.0.0,>=2.13.0->spacy>=2.2.2->en_core_web_sm==2.2.5) (3.0.4)\n",
            "Requirement already satisfied: certifi>=2017.4.17 in /usr/local/lib/python3.6/dist-packages (from requests<3.0.0,>=2.13.0->spacy>=2.2.2->en_core_web_sm==2.2.5) (2020.12.5)\n",
            "Requirement already satisfied: typing-extensions>=3.6.4; python_version < \"3.8\" in /usr/local/lib/python3.6/dist-packages (from importlib-metadata>=0.20; python_version < \"3.8\"->catalogue<1.1.0,>=0.0.7->spacy>=2.2.2->en_core_web_sm==2.2.5) (3.7.4.3)\n",
            "Requirement already satisfied: zipp>=0.5 in /usr/local/lib/python3.6/dist-packages (from importlib-metadata>=0.20; python_version < \"3.8\"->catalogue<1.1.0,>=0.0.7->spacy>=2.2.2->en_core_web_sm==2.2.5) (3.4.0)\n",
            "\u001b[38;5;2m✔ Download and installation successful\u001b[0m\n",
            "You can now load the model via spacy.load('en_core_web_sm')\n"
          ],
          "name": "stdout"
        }
      ]
    },
    {
      "cell_type": "code",
      "metadata": {
        "id": "g7VTW0fzvHqX"
      },
      "source": [
        "import spacy\r\n",
        "\r\n",
        "nlp=spacy.load(\"en_core_web_sm\")\r\n",
        "\r\n"
      ],
      "execution_count": 16,
      "outputs": []
    },
    {
      "cell_type": "code",
      "metadata": {
        "colab": {
          "base_uri": "https://localhost:8080/",
          "height": 35
        },
        "id": "_tnecFFw1kXY",
        "outputId": "ee8b34c3-e1b3-43ee-8c20-2845f41feecb"
      },
      "source": [
        "#test\r\n",
        "\"\"\"mystring='motorola (company): can i hack my charter motorolla dcx3400?'\r\n",
        "re.sub(r'[^A-Za-z0-9]+', ' ', mystring)\"\"\"\r\n",
        " "
      ],
      "execution_count": 17,
      "outputs": [
        {
          "output_type": "execute_result",
          "data": {
            "application/vnd.google.colaboratory.intrinsic+json": {
              "type": "string"
            },
            "text/plain": [
              "\"mystring='motorola (company): can i hack my charter motorolla dcx3400?'\\nre.sub(r'[^A-Za-z0-9]+', ' ', mystring)\""
            ]
          },
          "metadata": {
            "tags": []
          },
          "execution_count": 17
        }
      ]
    },
    {
      "cell_type": "markdown",
      "metadata": {
        "id": "ScMtF27rwQJT"
      },
      "source": [
        "Unnormalized data"
      ]
    },
    {
      "cell_type": "code",
      "metadata": {
        "id": "fbSeUEjW2wcq"
      },
      "source": [
        "x1_data=[regex_clean(text) for text in x1]\r\n",
        "x2_data=[regex_clean(text) for text in x2]"
      ],
      "execution_count": 18,
      "outputs": []
    },
    {
      "cell_type": "code",
      "metadata": {
        "id": "qf2iU_lqLYFP"
      },
      "source": [
        "y_data=tf.one_hot(df['is_duplicate'].values,2)"
      ],
      "execution_count": 19,
      "outputs": []
    },
    {
      "cell_type": "code",
      "metadata": {
        "colab": {
          "base_uri": "https://localhost:8080/"
        },
        "id": "vfEfExwoN7Xs",
        "outputId": "a1782bdf-f38f-4db8-ffd2-5c567fa333e0"
      },
      "source": [
        "x1_data[:3]"
      ],
      "execution_count": 20,
      "outputs": [
        {
          "output_type": "execute_result",
          "data": {
            "text/plain": [
              "['what is the step by step guide to invest in share market in india',\n",
              " 'what is the story of kohinoor kohinoor diamond',\n",
              " 'how can i increase the speed of my internet connection while using a vpn']"
            ]
          },
          "metadata": {
            "tags": []
          },
          "execution_count": 20
        }
      ]
    },
    {
      "cell_type": "code",
      "metadata": {
        "colab": {
          "base_uri": "https://localhost:8080/"
        },
        "id": "ZO825FS0KFUe",
        "outputId": "98188ced-23ee-4bbe-ec60-a128ecd8a99d"
      },
      "source": [
        "# contraction replacemets\r\n",
        "!pip install contractions"
      ],
      "execution_count": 21,
      "outputs": [
        {
          "output_type": "stream",
          "text": [
            "Collecting contractions\n",
            "  Downloading https://files.pythonhosted.org/packages/4a/5f/91102df95715fdda07f56a7eba2baae983e2ae16a080eb52d79e08ec6259/contractions-0.0.45-py2.py3-none-any.whl\n",
            "Collecting textsearch\n",
            "  Downloading https://files.pythonhosted.org/packages/42/a8/03407021f9555043de5492a2bd7a35c56cc03c2510092b5ec018cae1bbf1/textsearch-0.0.17-py2.py3-none-any.whl\n",
            "Collecting Unidecode\n",
            "\u001b[?25l  Downloading https://files.pythonhosted.org/packages/74/65/91eab655041e9e92f948cb7302e54962035762ce7b518272ed9d6b269e93/Unidecode-1.1.2-py2.py3-none-any.whl (239kB)\n",
            "\u001b[K     |████████████████████████████████| 245kB 8.3MB/s \n",
            "\u001b[?25hCollecting pyahocorasick\n",
            "\u001b[?25l  Downloading https://files.pythonhosted.org/packages/4a/92/b3c70b8cf2b76f7e3e8b7243d6f06f7cb3bab6ada237b1bce57604c5c519/pyahocorasick-1.4.1.tar.gz (321kB)\n",
            "\u001b[K     |████████████████████████████████| 327kB 14.1MB/s \n",
            "\u001b[?25hBuilding wheels for collected packages: pyahocorasick\n",
            "  Building wheel for pyahocorasick (setup.py) ... \u001b[?25l\u001b[?25hdone\n",
            "  Created wheel for pyahocorasick: filename=pyahocorasick-1.4.1-cp36-cp36m-linux_x86_64.whl size=84343 sha256=9e475d886f9a21094d274244a0e7e4e73f5dac216ee9601c2f76462e7d1ea859\n",
            "  Stored in directory: /root/.cache/pip/wheels/e4/ab/f7/cb39270df8f6126f3dd4c33d302357167086db460968cfc80c\n",
            "Successfully built pyahocorasick\n",
            "Installing collected packages: Unidecode, pyahocorasick, textsearch, contractions\n",
            "Successfully installed Unidecode-1.1.2 contractions-0.0.45 pyahocorasick-1.4.1 textsearch-0.0.17\n"
          ],
          "name": "stdout"
        }
      ]
    },
    {
      "cell_type": "code",
      "metadata": {
        "colab": {
          "base_uri": "https://localhost:8080/",
          "height": 35
        },
        "id": "37T-tbw5MPNc",
        "outputId": "77021619-0fb5-4e4b-f6dd-c83aed81e905"
      },
      "source": [
        "#Testing the package in pypi\r\n",
        "\r\n",
        "import contractions\r\n",
        "\"\"\"contractions.fix(\"i'll call you\")\"\"\""
      ],
      "execution_count": 22,
      "outputs": [
        {
          "output_type": "execute_result",
          "data": {
            "application/vnd.google.colaboratory.intrinsic+json": {
              "type": "string"
            },
            "text/plain": [
              "'contractions.fix(\"i\\'ll call you\")'"
            ]
          },
          "metadata": {
            "tags": []
          },
          "execution_count": 22
        }
      ]
    },
    {
      "cell_type": "code",
      "metadata": {
        "id": "etzh_7VBMg7f"
      },
      "source": [
        "x1_data=[contractions.fix(data) for data in x1_data]\r\n",
        "x2_data=[contractions.fix(data) for data in x2_data]"
      ],
      "execution_count": 23,
      "outputs": []
    },
    {
      "cell_type": "code",
      "metadata": {
        "id": "AFrjZTyOOz3x"
      },
      "source": [
        "# acronym identification and replacement\r\n",
        "\r\n",
        "# this is impossible for this task but if there is a small dataset on which fine tuning can be done then it could be useful."
      ],
      "execution_count": 24,
      "outputs": []
    },
    {
      "cell_type": "code",
      "metadata": {
        "colab": {
          "base_uri": "https://localhost:8080/",
          "height": 35
        },
        "id": "xzUOb6W_xpcN",
        "outputId": "cf3645a7-c796-48b7-f246-3ad3deb09bb9"
      },
      "source": [
        "' '.join([str(i) for i in nlp(\"this is impossible for this task but if there is a small dataset on which fine tuning on this model can be done then it could be useful.\")])"
      ],
      "execution_count": 25,
      "outputs": [
        {
          "output_type": "execute_result",
          "data": {
            "application/vnd.google.colaboratory.intrinsic+json": {
              "type": "string"
            },
            "text/plain": [
              "'this is impossible for this task but if there is a small dataset on which fine tuning on this model can be done then it could be useful .'"
            ]
          },
          "metadata": {
            "tags": []
          },
          "execution_count": 25
        }
      ]
    },
    {
      "cell_type": "markdown",
      "metadata": {
        "id": "nrJPbC7IwVuo"
      },
      "source": [
        "Normalized data"
      ]
    },
    {
      "cell_type": "code",
      "metadata": {
        "id": "4gL1TgJnwXuJ"
      },
      "source": [
        "n_x1_data=[' '.join([str(token.lemma_) for token in nlp(text)]) for text in x1_data[:1000]]    #lematization and singularization\r\n",
        "n_x2_data=[' '.join([str(token.lemma_) for token in nlp(text)]) for text in x2_data[:1000]]"
      ],
      "execution_count": 26,
      "outputs": []
    },
    {
      "cell_type": "code",
      "metadata": {
        "id": "r5iMh19R5LZ3"
      },
      "source": [
        "#using tensorflow tokenizer\r\n",
        "\r\n",
        "from tensorflow.keras.preprocessing.text import Tokenizer\r\n",
        "from tensorflow.keras.preprocessing.sequence import pad_sequences"
      ],
      "execution_count": 27,
      "outputs": []
    },
    {
      "cell_type": "code",
      "metadata": {
        "id": "sGlYEne3x2Dc"
      },
      "source": [
        "tokenizer1=Tokenizer()\r\n",
        "tokenizer1.fit_on_texts(n_x1_data+n_x2_data)"
      ],
      "execution_count": 28,
      "outputs": []
    },
    {
      "cell_type": "code",
      "metadata": {
        "id": "GUmp8E7mx57i"
      },
      "source": [
        "n_sequences=tokenizer1.texts_to_sequences(n_x1_data)\r\n",
        "n_sequences_2=tokenizer1.texts_to_sequences(n_x2_data)"
      ],
      "execution_count": 29,
      "outputs": []
    },
    {
      "cell_type": "code",
      "metadata": {
        "id": "rqOXsi9cx-fY"
      },
      "source": [
        "n_x1_sequence_data=pad_sequences(n_sequences,maxlen=144)\r\n",
        "n_x2_sequence_data=pad_sequences(n_sequences_2,maxlen=144)"
      ],
      "execution_count": 30,
      "outputs": []
    },
    {
      "cell_type": "code",
      "metadata": {
        "id": "Y2HR9CQXyH0D"
      },
      "source": [
        "n_vocab=tokenizer1.word_index"
      ],
      "execution_count": 31,
      "outputs": []
    },
    {
      "cell_type": "markdown",
      "metadata": {
        "id": "ltVPYNGE5Ujc"
      },
      "source": [
        "Un-normalized data prepn"
      ]
    },
    {
      "cell_type": "code",
      "metadata": {
        "id": "ElA53enzTSQf"
      },
      "source": [
        "tokenizer=Tokenizer()\r\n",
        "tokenizer.fit_on_texts(x1_data+x2_data)"
      ],
      "execution_count": 32,
      "outputs": []
    },
    {
      "cell_type": "code",
      "metadata": {
        "id": "urPlqlPDXGUL"
      },
      "source": [
        "sequences=tokenizer.texts_to_sequences(x1_data)\r\n",
        "sequences_2=tokenizer.texts_to_sequences(x2_data)"
      ],
      "execution_count": 33,
      "outputs": []
    },
    {
      "cell_type": "code",
      "metadata": {
        "id": "htCJyVDYtref"
      },
      "source": [
        "x1_sequence_data=pad_sequences(sequences,maxlen=144)\r\n",
        "x2_sequence_data=pad_sequences(sequences_2,maxlen=144)"
      ],
      "execution_count": 34,
      "outputs": []
    },
    {
      "cell_type": "code",
      "metadata": {
        "colab": {
          "base_uri": "https://localhost:8080/"
        },
        "id": "U5qsXoqxWg08",
        "outputId": "5e9e9c4c-f82b-4be5-cb13-956b43709f9f"
      },
      "source": [
        "x1_data[:10]"
      ],
      "execution_count": 35,
      "outputs": [
        {
          "output_type": "execute_result",
          "data": {
            "text/plain": [
              "['what is the step by step guide to invest in share market in india',\n",
              " 'what is the story of kohinoor kohinoor diamond',\n",
              " 'how can i increase the speed of my internet connection while using a vpn',\n",
              " 'why am i mentally very lonely how can i solve it',\n",
              " 'which one dissolve in water quikly sugar salt methane and carbon di oxide',\n",
              " 'astrology i am a capricorn sun cap moon and cap risingwhat does that say about me',\n",
              " 'should i buy tiago',\n",
              " 'how can i be a good geologist',\n",
              " 'when do you use instead of ',\n",
              " 'motorola company can i hack my charter motorolla dcx3400']"
            ]
          },
          "metadata": {
            "tags": []
          },
          "execution_count": 35
        }
      ]
    },
    {
      "cell_type": "code",
      "metadata": {
        "colab": {
          "base_uri": "https://localhost:8080/"
        },
        "id": "uypaIFcwUiBp",
        "outputId": "b8ccab81-726c-431a-93fd-aa1680d3a213"
      },
      "source": [
        "tokenizer.word_index['capricorn']"
      ],
      "execution_count": 36,
      "outputs": [
        {
          "output_type": "execute_result",
          "data": {
            "text/plain": [
              "9959"
            ]
          },
          "metadata": {
            "tags": []
          },
          "execution_count": 36
        }
      ]
    },
    {
      "cell_type": "code",
      "metadata": {
        "id": "eriqxQGL6eRN"
      },
      "source": [
        "vocab=tokenizer.word_index"
      ],
      "execution_count": 37,
      "outputs": []
    },
    {
      "cell_type": "code",
      "metadata": {
        "id": "9IDt9Qs4fFde",
        "colab": {
          "base_uri": "https://localhost:8080/"
        },
        "outputId": "f2f2bcd8-f474-473c-a0e5-f837f8505a90"
      },
      "source": [
        "#lets try google embeddings according to the paper\r\n",
        "!mkdir ~/.kaggle\r\n",
        "!cp /content/drive/MyDrive/kaggle.json /root/.kaggle\r\n",
        "!chmod 600 /root/.kaggle/kaggle.json\r\n",
        "!kaggle datasets download alvations/vegetables-google-word2vec"
      ],
      "execution_count": 38,
      "outputs": [
        {
          "output_type": "stream",
          "text": [
            "Downloading vegetables-google-word2vec.zip to /content\n",
            "100% 1.65G/1.66G [00:23<00:00, 99.9MB/s]\n",
            "100% 1.66G/1.66G [00:23<00:00, 76.0MB/s]\n"
          ],
          "name": "stdout"
        }
      ]
    },
    {
      "cell_type": "code",
      "metadata": {
        "id": "DTZGt6afmqkF",
        "colab": {
          "base_uri": "https://localhost:8080/"
        },
        "outputId": "98d212bb-b390-41f0-a7fc-7ff827b72fed"
      },
      "source": [
        "!unzip /content/vegetables-google-word2vec.zip"
      ],
      "execution_count": 39,
      "outputs": [
        {
          "output_type": "stream",
          "text": [
            "Archive:  /content/vegetables-google-word2vec.zip\n",
            "  inflating: word2vec.news.negative-sample.300d.npy  \n",
            "  inflating: word2vec.news.negative-sample.300d.pkl  \n",
            "  inflating: word2vec.news.negative-sample.300d.txt  \n"
          ],
          "name": "stdout"
        }
      ]
    },
    {
      "cell_type": "code",
      "metadata": {
        "id": "MZgf7ALVoJf8",
        "colab": {
          "base_uri": "https://localhost:8080/"
        },
        "outputId": "589092c9-7f3c-4f66-83ad-31dfcf10a9e2"
      },
      "source": [
        "embeddings=np.load('/content/word2vec.news.negative-sample.300d.npy')\r\n",
        "embeddings"
      ],
      "execution_count": 40,
      "outputs": [
        {
          "output_type": "execute_result",
          "data": {
            "text/plain": [
              "array([[ 1.1291504e-03, -8.9645386e-04,  3.1852722e-04, ...,\n",
              "        -1.5640259e-03, -1.2302399e-04, -8.6307526e-05],\n",
              "       [ 7.0312500e-02,  8.6914062e-02,  8.7890625e-02, ...,\n",
              "        -4.7607422e-02,  1.4465332e-02, -6.2500000e-02],\n",
              "       [-1.1779785e-02, -4.7363281e-02,  4.4677734e-02, ...,\n",
              "         7.1289062e-02, -3.4912109e-02,  2.4169922e-02],\n",
              "       ...,\n",
              "       [-1.9653320e-02, -9.0820312e-02, -1.9409180e-02, ...,\n",
              "        -1.6357422e-02, -1.3427734e-02,  4.6630859e-02],\n",
              "       [ 3.2714844e-02, -3.2226562e-02,  3.6132812e-02, ...,\n",
              "        -8.8500977e-03,  2.6977539e-02,  1.9042969e-02],\n",
              "       [ 4.5166016e-02, -4.5166016e-02, -3.9367676e-03, ...,\n",
              "         7.9589844e-02,  7.2265625e-02,  1.3000488e-02]], dtype=float32)"
            ]
          },
          "metadata": {
            "tags": []
          },
          "execution_count": 40
        }
      ]
    },
    {
      "cell_type": "code",
      "metadata": {
        "id": "1v-ahZzepueR",
        "colab": {
          "base_uri": "https://localhost:8080/"
        },
        "outputId": "19ae4417-2eb8-4a2f-d4ef-b866d34822f9"
      },
      "source": [
        "tokens = [line.strip() for line in open('/content/word2vec.news.negative-sample.300d.txt')]\r\n",
        "embeddings[tokens.index('mobile')]"
      ],
      "execution_count": 41,
      "outputs": [
        {
          "output_type": "execute_result",
          "data": {
            "text/plain": [
              "array([ 0.06494141, -0.328125  , -0.20605469, -0.15234375, -0.27734375,\n",
              "        0.09912109,  0.10205078, -0.06054688,  0.10009766, -0.01965332,\n",
              "        0.04516602, -0.0088501 , -0.06542969, -0.10546875,  0.07568359,\n",
              "       -0.18066406,  0.07617188, -0.05249023, -0.18652344,  0.12890625,\n",
              "        0.14941406, -0.10253906,  0.03295898,  0.08691406, -0.03588867,\n",
              "       -0.11376953, -0.1328125 ,  0.26953125,  0.265625  , -0.09960938,\n",
              "       -0.17773438,  0.0246582 , -0.02001953, -0.07568359, -0.05175781,\n",
              "       -0.14257812, -0.07177734,  0.02563477,  0.08056641,  0.17773438,\n",
              "       -0.16992188, -0.12451172,  0.06640625,  0.12988281, -0.02697754,\n",
              "       -0.09472656, -0.12255859,  0.0534668 , -0.03442383, -0.10058594,\n",
              "        0.11962891,  0.04150391,  0.01226807, -0.06738281, -0.01867676,\n",
              "        0.18261719, -0.15039062,  0.09179688,  0.14257812,  0.15039062,\n",
              "       -0.11035156, -0.01031494, -0.18164062,  0.10449219, -0.19921875,\n",
              "        0.19726562, -0.10253906,  0.25195312,  0.00267029, -0.00650024,\n",
              "        0.01422119, -0.13085938,  0.00762939,  0.29882812, -0.12988281,\n",
              "       -0.17382812,  0.07324219,  0.24121094, -0.06884766, -0.09667969,\n",
              "       -0.03857422,  0.01477051,  0.16796875,  0.20214844,  0.17773438,\n",
              "       -0.16601562, -0.1015625 , -0.03271484, -0.29296875,  0.33984375,\n",
              "       -0.09472656, -0.14355469, -0.00921631, -0.27734375,  0.02319336,\n",
              "       -0.01721191,  0.02209473,  0.01464844,  0.27929688, -0.10400391,\n",
              "       -0.08642578, -0.18261719,  0.00500488,  0.328125  ,  0.15820312,\n",
              "        0.06640625,  0.10839844,  0.07128906,  0.10546875,  0.05761719,\n",
              "        0.05175781, -0.07519531, -0.08203125, -0.16308594,  0.04541016,\n",
              "        0.05737305, -0.01385498, -0.16015625,  0.08740234,  0.07128906,\n",
              "       -0.234375  , -0.02197266, -0.29882812,  0.17871094,  0.16113281,\n",
              "        0.12353516, -0.16796875,  0.07080078, -0.23730469,  0.05810547,\n",
              "       -0.08300781, -0.01220703, -0.15820312, -0.12451172, -0.22851562,\n",
              "        0.15136719,  0.22265625,  0.12792969, -0.12695312, -0.21191406,\n",
              "       -0.02319336, -0.1484375 ,  0.06738281,  0.31640625,  0.16894531,\n",
              "       -0.06738281,  0.08544922, -0.13574219, -0.41210938, -0.296875  ,\n",
              "        0.07861328,  0.07275391, -0.07763672, -0.10791016, -0.140625  ,\n",
              "       -0.05273438,  0.12402344, -0.109375  ,  0.13183594, -0.13867188,\n",
              "       -0.28125   , -0.16894531, -0.19921875, -0.04272461, -0.02941895,\n",
              "        0.06982422,  0.01635742, -0.15429688, -0.21582031, -0.34570312,\n",
              "        0.1015625 , -0.10351562, -0.04321289, -0.35351562, -0.12255859,\n",
              "       -0.006073  ,  0.32226562, -0.03271484, -0.26953125, -0.04882812,\n",
              "       -0.15039062, -0.12792969, -0.22851562, -0.04003906,  0.21679688,\n",
              "       -0.12695312,  0.12890625,  0.125     , -0.01550293,  0.00927734,\n",
              "       -0.00524902, -0.04052734, -0.03491211, -0.04296875, -0.10546875,\n",
              "        0.16601562, -0.07324219,  0.05566406,  0.01312256,  0.00921631,\n",
              "       -0.07177734, -0.03271484,  0.04663086,  0.02746582, -0.16699219,\n",
              "        0.06640625,  0.13476562, -0.09179688, -0.02380371, -0.14355469,\n",
              "        0.17285156,  0.17285156, -0.08544922, -0.15722656,  0.00485229,\n",
              "        0.05859375, -0.02832031, -0.23925781, -0.38671875,  0.1328125 ,\n",
              "       -0.00982666,  0.09082031, -0.06542969, -0.0390625 , -0.16601562,\n",
              "        0.11914062, -0.16796875, -0.06347656,  0.08984375, -0.34375   ,\n",
              "       -0.21484375, -0.20605469, -0.02319336, -0.11816406,  0.10009766,\n",
              "       -0.07080078, -0.05981445, -0.00120544, -0.14746094,  0.19140625,\n",
              "        0.19238281, -0.16210938,  0.05200195, -0.24902344,  0.03149414,\n",
              "       -0.01733398,  0.04492188,  0.09472656,  0.00701904, -0.10742188,\n",
              "        0.08984375,  0.03808594, -0.05151367,  0.29492188,  0.25390625,\n",
              "       -0.10693359, -0.11816406, -0.24414062, -0.12402344, -0.12695312,\n",
              "        0.03442383, -0.07275391,  0.07763672,  0.13867188,  0.02844238,\n",
              "        0.21972656, -0.06103516, -0.17089844, -0.26757812,  0.03466797,\n",
              "        0.06030273,  0.078125  , -0.14550781, -0.09570312,  0.2734375 ,\n",
              "       -0.08935547,  0.14550781,  0.02868652,  0.10009766, -0.04516602,\n",
              "       -0.08789062,  0.13671875, -0.05737305,  0.00141144, -0.33007812,\n",
              "        0.00946045,  0.06347656,  0.0402832 ,  0.04003906,  0.22070312,\n",
              "       -0.21972656,  0.02868652, -0.02600098, -0.24511719,  0.05517578,\n",
              "        0.03344727, -0.10839844, -0.02868652, -0.02697754,  0.01208496],\n",
              "      dtype=float32)"
            ]
          },
          "metadata": {
            "tags": []
          },
          "execution_count": 41
        }
      ]
    },
    {
      "cell_type": "code",
      "metadata": {
        "id": "r14VSQ435h9A",
        "colab": {
          "base_uri": "https://localhost:8080/"
        },
        "outputId": "0db37f41-0c8c-44fb-8705-94e92ed0dab7"
      },
      "source": [
        "len(vocab)"
      ],
      "execution_count": 42,
      "outputs": [
        {
          "output_type": "execute_result",
          "data": {
            "text/plain": [
              "108024"
            ]
          },
          "metadata": {
            "tags": []
          },
          "execution_count": 42
        }
      ]
    },
    {
      "cell_type": "code",
      "metadata": {
        "id": "CFjbWkuP86pT"
      },
      "source": [
        "# embeddings_matrix = np.zeros((len(vocab)+1, 300));\r\n",
        "# for word, i in vocab.items():\r\n",
        "#   if word in tokens:\r\n",
        "#     embedding_vector = embeddings[tokens.index(word)];\r\n",
        "#     if embedding_vector is not None:\r\n",
        "#         embeddings_matrix[i] = embedding_vector;\r\n",
        "#   else:\r\n",
        "#     embeddings_matrix[i]=np.array([0]*300)"
      ],
      "execution_count": 43,
      "outputs": []
    },
    {
      "cell_type": "code",
      "metadata": {
        "id": "Q3L-int2FqaR",
        "colab": {
          "base_uri": "https://localhost:8080/",
          "height": 35
        },
        "outputId": "a6c60fab-f34d-48ec-d4cf-6b06f38cac4a"
      },
      "source": [
        "import pickle\r\n",
        "\r\n",
        "\"\"\"with open('embeddings.pkl','wb') as files:\r\n",
        "  pickle.dump(embeddings_matrix,files)\"\"\""
      ],
      "execution_count": 44,
      "outputs": [
        {
          "output_type": "execute_result",
          "data": {
            "application/vnd.google.colaboratory.intrinsic+json": {
              "type": "string"
            },
            "text/plain": [
              "\"with open('embeddings.pkl','wb') as files:\\n  pickle.dump(embeddings_matrix,files)\""
            ]
          },
          "metadata": {
            "tags": []
          },
          "execution_count": 44
        }
      ]
    },
    {
      "cell_type": "code",
      "metadata": {
        "id": "lZWOl_ROoaNa"
      },
      "source": [
        "with open('/content/drive/MyDrive/ML Model weights/quora/embeddings.pkl','rb') as files:\r\n",
        "  embeddings=pickle.load(files)"
      ],
      "execution_count": 45,
      "outputs": []
    },
    {
      "cell_type": "code",
      "metadata": {
        "id": "jvbkdD6hxmXT",
        "colab": {
          "base_uri": "https://localhost:8080/"
        },
        "outputId": "e9e8b6fb-00aa-40aa-dc7e-75c74eca1989"
      },
      "source": [
        "embeddings.shape"
      ],
      "execution_count": 46,
      "outputs": [
        {
          "output_type": "execute_result",
          "data": {
            "text/plain": [
              "(108025, 300)"
            ]
          },
          "metadata": {
            "tags": []
          },
          "execution_count": 46
        }
      ]
    },
    {
      "cell_type": "code",
      "metadata": {
        "id": "3lq7xwSK34jo",
        "colab": {
          "base_uri": "https://localhost:8080/",
          "height": 102
        },
        "outputId": "e00b944a-afa3-4464-9bff-2aa7ac2b6cf3"
      },
      "source": [
        "# model(siamese network) using functional API\n",
        "\n",
        "\"\"\"embedding_layer=Embedding(vocab_len+1,100,input_length=x_train_data_1.shape[-1])\n",
        "lstm=LSTM(512,dropout=0.3)\n",
        "\n",
        "s1=Input(shape=(x_train_data_1.shape[-1]))\n",
        "embed=embedding_layer(s1)\n",
        "x1=lstm(embed)\n",
        "\n",
        "s2=Input(shape=(x_train_data_1.shape[-1]))\n",
        "embed_1=embedding_layer(s2)\n",
        "y1=lstm(embed_1)\n",
        "\n",
        "#eucledian distance is not used here.i tried with simple DNN\n",
        "com=concatenate([x1,y1])                    \n",
        "com=Dropout(0.2)(com)\n",
        "com=BatchNormalization()(com)\n",
        "com=Dense(256,activation='relu')(com)\n",
        "com=Dropout(0.2)(com)\n",
        "pred=Dense(2,activation='softmax')(com)        \n",
        "\n",
        "model=Model([s1,s2],pred)\n",
        "\n",
        "model.compile(optimizer=Adam(0.0001),loss='categorical_crossentropy',metrics=['accuracy'])\n",
        "model.summary()\"\"\""
      ],
      "execution_count": 47,
      "outputs": [
        {
          "output_type": "execute_result",
          "data": {
            "application/vnd.google.colaboratory.intrinsic+json": {
              "type": "string"
            },
            "text/plain": [
              "\"embedding_layer=Embedding(vocab_len+1,100,input_length=x_train_data_1.shape[-1])\\nlstm=LSTM(512,dropout=0.3)\\n\\ns1=Input(shape=(x_train_data_1.shape[-1]))\\nembed=embedding_layer(s1)\\nx1=lstm(embed)\\n\\ns2=Input(shape=(x_train_data_1.shape[-1]))\\nembed_1=embedding_layer(s2)\\ny1=lstm(embed_1)\\n\\n#eucledian distance is not used here.i tried with simple DNN\\ncom=concatenate([x1,y1])                    \\ncom=Dropout(0.2)(com)\\ncom=BatchNormalization()(com)\\ncom=Dense(256,activation='relu')(com)\\ncom=Dropout(0.2)(com)\\npred=Dense(2,activation='softmax')(com)        \\n\\nmodel=Model([s1,s2],pred)\\n\\nmodel.compile(optimizer=Adam(0.0001),loss='categorical_crossentropy',metrics=['accuracy'])\\nmodel.summary()\""
            ]
          },
          "metadata": {
            "tags": []
          },
          "execution_count": 47
        }
      ]
    },
    {
      "cell_type": "code",
      "metadata": {
        "id": "tJtvij-_Uoqo"
      },
      "source": [
        "# siamese model development \r\n",
        "\r\n",
        "class Model(tf.keras.Model):\r\n",
        "  \"\"\"for questions column\"\"\"\r\n",
        "  \r\n",
        "  def __init__(self,units_1,units_2,vocab,name):\r\n",
        "    super().__init__(name=f'input_network {name}')\r\n",
        "    self.input_1=tf.keras.layers.Input(shape=(units_1,),name=name)\r\n",
        "    self.embedding=tf.keras.layers.Embedding(len(vocab)+1,300,weights=[embeddings],trainable=False)\r\n",
        "    self.lstm=tf.keras.layers.LSTM(units_2, name=f'LSTM {name}')\r\n",
        "    \r\n",
        "\r\n",
        "  def call(self,inputs):\r\n",
        "    x=self.embedding(inputs)\r\n",
        "    x=self.lstm(x)\r\n",
        "\r\n",
        "\r\n",
        "    return x\r\n"
      ],
      "execution_count": 111,
      "outputs": []
    },
    {
      "cell_type": "code",
      "metadata": {
        "id": "HEghV6GIxCaU"
      },
      "source": [
        "class SiameseNetwork(tf.keras.Model):\r\n",
        "\r\n",
        "  def __init__(self,unit1,unit2,vocab):\r\n",
        "    super(SiameseNetwork,self).__init__()\r\n",
        "    self.dropout1=tf.keras.layers.Dropout(0.2,name='dropout1')\r\n",
        "    self.dropout2=tf.keras.layers.Dropout(0.2,name='dropout2')\r\n",
        "    self.f_dense=tf.keras.layers.Dense(2,activation='softmax' ,name='final_dense')\r\n",
        "    self.layer1=Model(unit1,unit2,vocab,'input1')\r\n",
        "    self.layer2=Model(unit1,unit2,vocab,'input2')\r\n",
        "\r\n",
        "  def call(self,input1,input2,training):\r\n",
        "    x1=self.layer1(input1)\r\n",
        "    x2=self.layer2(input2)\r\n",
        "    x=tf.keras.layers.concatenate([x1,x2])\r\n",
        "    x=self.dropout1(x)\r\n",
        "    x=self.dropout2(x)\r\n",
        "    x=self.f_dense(x)\r\n",
        "    return x"
      ],
      "execution_count": 119,
      "outputs": []
    },
    {
      "cell_type": "code",
      "metadata": {
        "id": "NIfbMQk5DaqR"
      },
      "source": [
        "epochs=5"
      ],
      "execution_count": 120,
      "outputs": []
    },
    {
      "cell_type": "code",
      "metadata": {
        "id": "SoKmOHjCG52u"
      },
      "source": [
        "loss_fn=tf.keras.losses.CategoricalCrossentropy(from_logits=True)\r\n",
        "optimizer=tf.keras.optimizers.Adam(learning_rate=0.0001)\r\n",
        "train_acc_metric = tf.keras.metrics.CategoricalAccuracy()\r\n",
        "val_acc_metric = tf.keras.metrics.CategoricalAccuracy()"
      ],
      "execution_count": 121,
      "outputs": []
    },
    {
      "cell_type": "code",
      "metadata": {
        "id": "xlJsefJ7666R"
      },
      "source": [
        "#Custom Training \r\n",
        "\r\n",
        "@tf.function\r\n",
        "def train(x1_train_data,x2_train_data,y_train_data,vocab,training=True):\r\n",
        "    # model1=Model(144,75,vocab)\r\n",
        "    # # x1=tf.keras.layers.Input(shape=(144,))\r\n",
        "    # # Initialized_m1= model1(x1,training=False) # calling build method\r\n",
        "    # model2=Model(144,75,vocab)\r\n",
        "    # # Initialized_m2= model2(x1,training=False) # calling build method\r\n",
        "    f_model=SiameseNetwork(144,75,vocab)\r\n",
        "    batches=16\r\n",
        "    for epoch in range(epochs):\r\n",
        "      \r\n",
        "      print(f\"epoch number {epoch}\")\r\n",
        "      dl=int(len(x1_train_data)/batches)\r\n",
        "      length=0\r\n",
        "      for batch in range(batches):\r\n",
        "        with tf.GradientTape() as tape:\r\n",
        "          # output_logits_1=model1(x1_train_data[length:dl+length],training=training)\r\n",
        "          # output_logits_2=model2(x2_train_data[length:dl+length],training=training)\r\n",
        "          final_logits=f_model(x1_train_data[length:dl+length],x2_train_data[length:dl+length],training=training)\r\n",
        "          loss_val=loss_fn(y_train_data[length:dl+length],final_logits)\r\n",
        "\r\n",
        "        grads=tape.gradient(loss_val,f_model.trainable_weights)\r\n",
        "        optimizer.apply_gradients(zip(grads,f_model.trainable_weights))\r\n",
        "        \r\n",
        "        train_acc_metric.update_state(y_train_data[length:dl+length], final_logits)\r\n",
        "        length+=dl\r\n",
        "        \r\n",
        "\r\n",
        "        print(f'loss value after {batch}th batch : {loss_val}\\n')\r\n",
        "        \r\n",
        "\r\n",
        "      train_acc = train_acc_metric.result()\r\n",
        "      print('\\n')\r\n",
        "      print(f'Training acc over epoch {epoch} : {train_acc}\\n\\n') \r\n",
        "      train_acc_metric.reset_states()\r\n",
        "\r\n",
        "    return f_model\r\n",
        "\r\n",
        "\r\n",
        "\r\n",
        "\r\n",
        "\r\n",
        "\r\n"
      ],
      "execution_count": 122,
      "outputs": []
    },
    {
      "cell_type": "code",
      "metadata": {
        "id": "_Y5ab5sEBvZH"
      },
      "source": [
        "tf.config.run_functions_eagerly(True)"
      ],
      "execution_count": 123,
      "outputs": []
    },
    {
      "cell_type": "code",
      "metadata": {
        "id": "MJAaj9pF8jxR",
        "colab": {
          "base_uri": "https://localhost:8080/"
        },
        "outputId": "05d32d10-2d02-47c3-8fc6-8e0f2101b32b"
      },
      "source": [
        "f_model=train(x1_sequence_data[:10000],x2_sequence_data[:10000],y_data[:10000],vocab,training=True) #just 10k data taken for testing\r\n",
        "\r\n"
      ],
      "execution_count": 124,
      "outputs": [
        {
          "output_type": "stream",
          "text": [
            "epoch number 0\n",
            "loss value after 0th batch : 0.6964728832244873\n",
            "\n",
            "loss value after 1th batch : 0.7006195783615112\n",
            "\n",
            "loss value after 2th batch : 0.6976900100708008\n",
            "\n",
            "loss value after 3th batch : 0.6904575228691101\n",
            "\n",
            "loss value after 4th batch : 0.6854989528656006\n",
            "\n",
            "loss value after 5th batch : 0.6886484622955322\n",
            "\n",
            "loss value after 6th batch : 0.685798168182373\n",
            "\n",
            "loss value after 7th batch : 0.6915314793586731\n",
            "\n",
            "loss value after 8th batch : 0.6807029247283936\n",
            "\n",
            "loss value after 9th batch : 0.6785159707069397\n",
            "\n",
            "loss value after 10th batch : 0.6698959469795227\n",
            "\n",
            "loss value after 11th batch : 0.6676657199859619\n",
            "\n",
            "loss value after 12th batch : 0.6693234443664551\n",
            "\n",
            "loss value after 13th batch : 0.6689797043800354\n",
            "\n",
            "loss value after 14th batch : 0.6652178168296814\n",
            "\n",
            "loss value after 15th batch : 0.6715244650840759\n",
            "\n",
            "\n",
            "\n",
            "Training acc over epoch 0 : 0.5730999708175659\n",
            "\n",
            "\n",
            "epoch number 1\n",
            "loss value after 0th batch : 0.6735463738441467\n",
            "\n",
            "loss value after 1th batch : 0.6667913198471069\n",
            "\n",
            "loss value after 2th batch : 0.6584641933441162\n",
            "\n",
            "loss value after 3th batch : 0.6830703616142273\n",
            "\n",
            "loss value after 4th batch : 0.6674318909645081\n",
            "\n",
            "loss value after 5th batch : 0.6671600341796875\n",
            "\n",
            "loss value after 6th batch : 0.6697586178779602\n",
            "\n",
            "loss value after 7th batch : 0.6813579797744751\n",
            "\n",
            "loss value after 8th batch : 0.6730834245681763\n",
            "\n",
            "loss value after 9th batch : 0.6602320075035095\n",
            "\n",
            "loss value after 10th batch : 0.6484861373901367\n",
            "\n",
            "loss value after 11th batch : 0.6437065005302429\n",
            "\n",
            "loss value after 12th batch : 0.6594487428665161\n",
            "\n",
            "loss value after 13th batch : 0.6484432816505432\n",
            "\n",
            "loss value after 14th batch : 0.6616659760475159\n",
            "\n",
            "loss value after 15th batch : 0.6678076386451721\n",
            "\n",
            "\n",
            "\n",
            "Training acc over epoch 1 : 0.6287000179290771\n",
            "\n",
            "\n",
            "epoch number 2\n",
            "loss value after 0th batch : 0.6638762950897217\n",
            "\n",
            "loss value after 1th batch : 0.6598770618438721\n",
            "\n",
            "loss value after 2th batch : 0.6452438235282898\n",
            "\n",
            "loss value after 3th batch : 0.687279462814331\n",
            "\n",
            "loss value after 4th batch : 0.6631343960762024\n",
            "\n",
            "loss value after 5th batch : 0.6625986099243164\n",
            "\n",
            "loss value after 6th batch : 0.6617376804351807\n",
            "\n",
            "loss value after 7th batch : 0.6791839599609375\n",
            "\n",
            "loss value after 8th batch : 0.6680902242660522\n",
            "\n",
            "loss value after 9th batch : 0.6467151045799255\n",
            "\n",
            "loss value after 10th batch : 0.639032244682312\n",
            "\n",
            "loss value after 11th batch : 0.6371790766716003\n",
            "\n",
            "loss value after 12th batch : 0.6541402339935303\n",
            "\n",
            "loss value after 13th batch : 0.6466925740242004\n",
            "\n",
            "loss value after 14th batch : 0.6534503698348999\n",
            "\n",
            "loss value after 15th batch : 0.664168119430542\n",
            "\n",
            "\n",
            "\n",
            "Training acc over epoch 2 : 0.6287000179290771\n",
            "\n",
            "\n",
            "epoch number 3\n",
            "loss value after 0th batch : 0.6621740460395813\n",
            "\n",
            "loss value after 1th batch : 0.6569889783859253\n",
            "\n",
            "loss value after 2th batch : 0.6445596814155579\n",
            "\n",
            "loss value after 3th batch : 0.6822285056114197\n",
            "\n",
            "loss value after 4th batch : 0.6582140922546387\n",
            "\n",
            "loss value after 5th batch : 0.6591765880584717\n",
            "\n",
            "loss value after 6th batch : 0.6555517911911011\n",
            "\n",
            "loss value after 7th batch : 0.6713420748710632\n",
            "\n",
            "loss value after 8th batch : 0.6663759350776672\n",
            "\n",
            "loss value after 9th batch : 0.6361722946166992\n",
            "\n",
            "loss value after 10th batch : 0.6355069279670715\n",
            "\n",
            "loss value after 11th batch : 0.6358131170272827\n",
            "\n",
            "loss value after 12th batch : 0.6497933864593506\n",
            "\n",
            "loss value after 13th batch : 0.6427065134048462\n",
            "\n",
            "loss value after 14th batch : 0.6518839597702026\n",
            "\n",
            "loss value after 15th batch : 0.6576259732246399\n",
            "\n",
            "\n",
            "\n",
            "Training acc over epoch 3 : 0.6294000148773193\n",
            "\n",
            "\n",
            "epoch number 4\n",
            "loss value after 0th batch : 0.6548303961753845\n",
            "\n",
            "loss value after 1th batch : 0.6526082754135132\n",
            "\n",
            "loss value after 2th batch : 0.6463488340377808\n",
            "\n",
            "loss value after 3th batch : 0.681977391242981\n",
            "\n",
            "loss value after 4th batch : 0.654081404209137\n",
            "\n",
            "loss value after 5th batch : 0.6536295413970947\n",
            "\n",
            "loss value after 6th batch : 0.6507777571678162\n",
            "\n",
            "loss value after 7th batch : 0.6690940260887146\n",
            "\n",
            "loss value after 8th batch : 0.6602171659469604\n",
            "\n",
            "loss value after 9th batch : 0.6384813785552979\n",
            "\n",
            "loss value after 10th batch : 0.6320332288742065\n",
            "\n",
            "loss value after 11th batch : 0.6354012489318848\n",
            "\n",
            "loss value after 12th batch : 0.6467510461807251\n",
            "\n",
            "loss value after 13th batch : 0.6339961886405945\n",
            "\n",
            "loss value after 14th batch : 0.6419532895088196\n",
            "\n",
            "loss value after 15th batch : 0.6510760188102722\n",
            "\n",
            "\n",
            "\n",
            "Training acc over epoch 4 : 0.6297000050544739\n",
            "\n",
            "\n"
          ],
          "name": "stdout"
        }
      ]
    },
    {
      "cell_type": "code",
      "execution_count": null,
      "metadata": {},
      "outputs": [],
      "source": [
        "Norm_f_model=train(n_x1_sequence_data[:10000],n_x2_sequence_data[:10000],n_y_data[:10000],n_vocab,training=True)"
      ]
    },
    {
      "cell_type": "code",
      "metadata": {
        "colab": {
          "base_uri": "https://localhost:8080/"
        },
        "id": "3G1CU3W-IAZ8",
        "outputId": "510858c9-e165-416d-b4c2-d8e3ddbb9621"
      },
      "source": [
        "f_model"
      ],
      "execution_count": 127,
      "outputs": [
        {
          "output_type": "execute_result",
          "data": {
            "text/plain": [
              "<__main__.SiameseNetwork at 0x7fc5dcb77ba8>"
            ]
          },
          "metadata": {
            "tags": []
          },
          "execution_count": 127
        }
      ]
    },
    {
      "cell_type": "code",
      "metadata": {
        "colab": {
          "base_uri": "https://localhost:8080/"
        },
        "id": "Rt3ibGN2IWYk",
        "outputId": "8632e8f6-f0dc-44e8-c231-62cc2fe2d144"
      },
      "source": [
        "f_model.summary()"
      ],
      "execution_count": 125,
      "outputs": [
        {
          "output_type": "stream",
          "text": [
            "Model: \"siamese_network_6\"\n",
            "_________________________________________________________________\n",
            "Layer (type)                 Output Shape              Param #   \n",
            "=================================================================\n",
            "dropout1 (Dropout)           multiple                  0         \n",
            "_________________________________________________________________\n",
            "dropout2 (Dropout)           multiple                  0         \n",
            "_________________________________________________________________\n",
            "final_dense (Dense)          multiple                  302       \n",
            "_________________________________________________________________\n",
            "input_network input1 (Model) multiple                  32520300  \n",
            "_________________________________________________________________\n",
            "input_network input2 (Model) multiple                  32520300  \n",
            "=================================================================\n",
            "Total params: 65,040,902\n",
            "Trainable params: 225,902\n",
            "Non-trainable params: 64,815,000\n",
            "_________________________________________________________________\n"
          ],
          "name": "stdout"
        }
      ]
    },
    {
      "cell_type": "code",
      "metadata": {
        "id": "PUGA1tJRIeXr"
      },
      "source": [
        "f_model.save_weights('un_QQP.h5'),norm_f_model.save_weights('norm_QQP.h5')"
      ],
      "execution_count": 129,
      "outputs": []
    },
    {
      "cell_type": "code",
      "metadata": {
        "colab": {
          "base_uri": "https://localhost:8080/"
        },
        "id": "9bje4fgeRqmp",
        "outputId": "521217f8-62fc-48c9-a609-c410c4448b95"
      },
      "source": [
        "type(f_model)"
      ],
      "execution_count": 95,
      "outputs": [
        {
          "output_type": "execute_result",
          "data": {
            "text/plain": [
              "__main__.SiameseNetwork"
            ]
          },
          "metadata": {
            "tags": []
          },
          "execution_count": 95
        }
      ]
    },
    {
      "source": [
        "## Now, Scores can be generated for both models normalized and un-normalized to pass the value in ML system's Pipeline"
      ],
      "cell_type": "markdown",
      "metadata": {
        "id": "Wd6rVRAJRwt8"
      }
    }
  ]
}