{
  "nbformat": 4,
  "nbformat_minor": 0,
  "metadata": {
    "colab": {
      "name": "Meta classifier for final score ",
      "provenance": []
    },
    "kernelspec": {
      "name": "python3",
      "display_name": "Python 3",
      "language": "python"
    }
  },
  "cells": [
    {
      "cell_type": "code",
      "metadata": {
        "id": "Bhr2g5GPO2aB"
      },
      "source": [
        "\n",
        "# Note internal script files were made to access the dependencies\n",
        "\n",
        "from mlxtend.classifier import StackingClassifier\n",
        "from drive.fuzzy_score_script import Fuzzy_match_score\n",
        "from drive.SiameseNetworkModel import un_norm_model,norm_model\n",
        "from avg_embed import Avg_embedding_score\n",
        "from sen_embed import Sen_embedding_score\n",
        "from drive.tokenizer import tokenizer_with_padding"
      ],
      "execution_count": null,
      "outputs": []
    },
    {
      "cell_type": "code",
      "metadata": {
        "id": "4tzIPePR0-qa"
      },
      "source": [
        "from sklearn.svm import SVC\r\n",
        "import pandas as pd\r\n",
        "import numpy as np"
      ],
      "execution_count": 2,
      "outputs": []
    },
    {
      "cell_type": "code",
      "metadata": {
        "id": "M_3C2yWbsplC"
      },
      "source": [
        "with open('ques_embedding_database.pkl','r') as out_file:\r\n",
        "  ques_embeddings=pickle.load(out_file)"
      ],
      "execution_count": null,
      "outputs": []
    },
    {
      "cell_type": "code",
      "execution_count": null,
      "metadata": {},
      "outputs": [],
      "source": [
        "norm_model,un_norm_model=norm_model.load_weights('norm.h5'),un_norm_model.load_weights('un_norm.h5')"
      ]
    },
    {
      "cell_type": "code",
      "execution_count": null,
      "metadata": {},
      "outputs": [],
      "source": [
        "df=pd.read_csv('/content/drive/MyDrive/Data/quora duplicate identification/train.csv',header=0)\n",
        "df.head()"
      ]
    },
    {
      "source": [
        "x1,x2=tokenizer_with_padding(df['question1'].values,df['question2'].values)"
      ],
      "cell_type": "code",
      "metadata": {},
      "execution_count": null,
      "outputs": []
    },
    {
      "cell_type": "code",
      "metadata": {
        "id": "jqCbR-EBBN2x"
      },
      "source": [
        "#data prepn\n",
        "\n",
        "# 5 scores\n",
        "\n",
        "fuzzy=[Fuzzy_match_score(q1,q2) for q1,q2 in zip(df['question1'],df['question2'])]\n",
        "avg_emb=[Avg_embedding_score(q1,q2) for q1,q2 in zip(df['question1'],df['question2'])]\n",
        "sen_emb=[Sen_embedding_score(q1,q2) for q1,q2 in zip(df['question1'],df['question2'])]\n",
        "un_norm_score=un_norm_model(x1,x2)[:,1].numpy()\n",
        "norm_score=norm_model(x1,x2)[:,1].numpy()"
      ],
      "execution_count": null,
      "outputs": []
    },
    {
      "cell_type": "code",
      "metadata": {
        "id": "4jKH68_WEHZr"
      },
      "source": [
        "df['fuzzy'],df['avg_emb'],df['sen_emb'],df['un_norm_score'],df['norm_score']=fuzzy,avg_emb,sen_emb,un_norm_score,norm_score\r\n",
        "\r\n"
      ],
      "execution_count": null,
      "outputs": []
    },
    {
      "cell_type": "code",
      "metadata": {
        "id": "Z7gro0l6LIJX"
      },
      "source": [
        "# convert questions into tf-idf vectorizer or count-vectorizer"
      ],
      "execution_count": null,
      "outputs": []
    },
    {
      "cell_type": "code",
      "metadata": {
        "id": "ZZv5hJD9E9PD"
      },
      "source": [
        "X=np.array([x1,x2]).reshape(404290,2)\n",
        "y=df.iloc[:,[6,7,8,9,10]].values"
      ],
      "execution_count": 26,
      "outputs": []
    },
    {
      "cell_type": "code",
      "metadata": {
        "id": "MGRyBYn_FW1j"
      },
      "source": [
        "svr=SVC(degree=2,kernel='poly',C=0.2)\r\n"
      ],
      "execution_count": 38,
      "outputs": []
    },
    {
      "cell_type": "code",
      "metadata": {
        "id": "p_5cYZnkHZV5"
      },
      "source": [
        "from sklearn.multioutput import MultiOutputRegressor\r\n",
        "mor = MultiOutputRegressor(svr)"
      ],
      "execution_count": 39,
      "outputs": []
    },
    {
      "cell_type": "code",
      "metadata": {
        "colab": {
          "base_uri": "https://localhost:8080/"
        },
        "id": "cmKr-yftGJ1r",
        "outputId": "38ee2232-9188-46a7-8faa-78ab2d97a0d2"
      },
      "source": [
        "X.shape"
      ],
      "execution_count": 28,
      "outputs": [
        {
          "output_type": "execute_result",
          "data": {
            "text/plain": [
              "(404290, 2)"
            ]
          },
          "metadata": {
            "tags": []
          },
          "execution_count": 28
        }
      ]
    },
    {
      "cell_type": "code",
      "metadata": {
        "id": "NLZEu7wUK4UT"
      },
      "source": [
        "mor.fit(x,y)"
      ],
      "execution_count": null,
      "outputs": []
    },
    {
      "cell_type": "code",
      "metadata": {
        "id": "XH9XOM0BLD2_"
      },
      "source": [
        "mor.predict([q1,q2]) #predicts five 5 score"
      ],
      "execution_count": null,
      "outputs": []
    }
  ]
}