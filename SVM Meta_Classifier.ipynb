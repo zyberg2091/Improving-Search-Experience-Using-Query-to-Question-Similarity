{
  "nbformat": 4,
  "nbformat_minor": 0,
  "metadata": {
    "colab": {
      "name": "Meta classifier for final score ",
      "provenance": []
    },
    "kernelspec": {
      "name": "python3",
      "display_name": "Python 3"
    }
  },
  "cells": [
    {
      "cell_type": "code",
      "metadata": {
        "id": "Bhr2g5GPO2aB"
      },
      "source": [
        "\n",
        "#\n",
        "\n",
        "from mlxtend.classifier import StackingClassifier\n",
        "from drive.fuzzy_score_script import Fuzzy_match_score\n",
        "from drive.QQP import SiameseNetworkModel\n",
        "from avg_embed import Avg_embedding_score\n",
        "from sen_embed import Sen_embedding_score\n"
      ],
      "execution_count": null,
      "outputs": []
    },
    {
      "cell_type": "code",
      "metadata": {
        "id": "4tzIPePR0-qa"
      },
      "source": [
        "from sklearn.svm import SVC\r\n",
        "import pandas as pd\r\n",
        "import numpy as np"
      ],
      "execution_count": 21,
      "outputs": []
    },
    {
      "cell_type": "code",
      "metadata": {
        "id": "M_3C2yWbsplC"
      },
      "source": [
        "with open('ques_embedding_database.pkl','r') as out_file:\r\n",
        "  ques_embeddings=pickle.load(out_file)"
      ],
      "execution_count": null,
      "outputs": []
    },
    {
      "cell_type": "code",
      "execution_count": null,
      "metadata": {},
      "outputs": [],
      "source": [
        "norm_model,un_norm_model=SiameseNetworkModel.load_weights('norm.h5'),SiameseNetworkModel.load_weights('un_norm.h5')"
      ]
    },
    {
      "cell_type": "code",
      "metadata": {
        "id": "jqCbR-EBBN2x"
      },
      "source": [
        "#data prepn\r\n",
        "\r\n",
        "# 5 scores\r\n",
        "\r\n",
        "fuzzy=[Fuzzy_match_score(q1,q2) for q1,q2 in zip(df['question1'],df['question2'])]\r\n",
        "avg_emb=[Avg_embedding_score(q1,q2) for q1,q2 in zip(df['question1'],df['question2'])]\r\n",
        "sen_emb=[Sen_embedding_score(q1,q2) for q1,q2 in zip(df['question1'],df['question2'])]\r\n",
        "un_norm_score=un_norm_model.predict(df['question1'].values,df['question1'].values)\r\n",
        "norm_score=norm_model.predict(df['question1'].values,df['question1'].values)"
      ],
      "execution_count": null,
      "outputs": []
    },
    {
      "cell_type": "code",
      "metadata": {
        "colab": {
          "base_uri": "https://localhost:8080/",
          "height": 195
        },
        "id": "5PX5YKXdD-XQ",
        "outputId": "8d997a59-8b0e-49e9-a9c4-5971f2d4e7e7"
      },
      "source": [
        "df=pd.read_csv('/content/drive/MyDrive/Data/quora duplicate identification/train.csv',header=0)\r\n",
        "df.head()"
      ],
      "execution_count": 23,
      "outputs": [
        {
          "output_type": "execute_result",
          "data": {
            "text/html": [
              "<div>\n",
              "<style scoped>\n",
              "    .dataframe tbody tr th:only-of-type {\n",
              "        vertical-align: middle;\n",
              "    }\n",
              "\n",
              "    .dataframe tbody tr th {\n",
              "        vertical-align: top;\n",
              "    }\n",
              "\n",
              "    .dataframe thead th {\n",
              "        text-align: right;\n",
              "    }\n",
              "</style>\n",
              "<table border=\"1\" class=\"dataframe\">\n",
              "  <thead>\n",
              "    <tr style=\"text-align: right;\">\n",
              "      <th></th>\n",
              "      <th>id</th>\n",
              "      <th>qid1</th>\n",
              "      <th>qid2</th>\n",
              "      <th>question1</th>\n",
              "      <th>question2</th>\n",
              "      <th>is_duplicate</th>\n",
              "    </tr>\n",
              "  </thead>\n",
              "  <tbody>\n",
              "    <tr>\n",
              "      <th>0</th>\n",
              "      <td>0</td>\n",
              "      <td>1</td>\n",
              "      <td>2</td>\n",
              "      <td>What is the step by step guide to invest in sh...</td>\n",
              "      <td>What is the step by step guide to invest in sh...</td>\n",
              "      <td>0</td>\n",
              "    </tr>\n",
              "    <tr>\n",
              "      <th>1</th>\n",
              "      <td>1</td>\n",
              "      <td>3</td>\n",
              "      <td>4</td>\n",
              "      <td>What is the story of Kohinoor (Koh-i-Noor) Dia...</td>\n",
              "      <td>What would happen if the Indian government sto...</td>\n",
              "      <td>0</td>\n",
              "    </tr>\n",
              "    <tr>\n",
              "      <th>2</th>\n",
              "      <td>2</td>\n",
              "      <td>5</td>\n",
              "      <td>6</td>\n",
              "      <td>How can I increase the speed of my internet co...</td>\n",
              "      <td>How can Internet speed be increased by hacking...</td>\n",
              "      <td>0</td>\n",
              "    </tr>\n",
              "    <tr>\n",
              "      <th>3</th>\n",
              "      <td>3</td>\n",
              "      <td>7</td>\n",
              "      <td>8</td>\n",
              "      <td>Why am I mentally very lonely? How can I solve...</td>\n",
              "      <td>Find the remainder when [math]23^{24}[/math] i...</td>\n",
              "      <td>0</td>\n",
              "    </tr>\n",
              "    <tr>\n",
              "      <th>4</th>\n",
              "      <td>4</td>\n",
              "      <td>9</td>\n",
              "      <td>10</td>\n",
              "      <td>Which one dissolve in water quikly sugar, salt...</td>\n",
              "      <td>Which fish would survive in salt water?</td>\n",
              "      <td>0</td>\n",
              "    </tr>\n",
              "  </tbody>\n",
              "</table>\n",
              "</div>"
            ],
            "text/plain": [
              "   id  qid1  ...                                          question2 is_duplicate\n",
              "0   0     1  ...  What is the step by step guide to invest in sh...            0\n",
              "1   1     3  ...  What would happen if the Indian government sto...            0\n",
              "2   2     5  ...  How can Internet speed be increased by hacking...            0\n",
              "3   3     7  ...  Find the remainder when [math]23^{24}[/math] i...            0\n",
              "4   4     9  ...            Which fish would survive in salt water?            0\n",
              "\n",
              "[5 rows x 6 columns]"
            ]
          },
          "metadata": {
            "tags": []
          },
          "execution_count": 23
        }
      ]
    },
    {
      "cell_type": "code",
      "metadata": {
        "id": "4jKH68_WEHZr"
      },
      "source": [
        "df['fuzzy'],df['avg_emb'],df['sen_emb'],df['un_norm_score'],df['norm_score']=fuzzy,avg_emb,sen_emb,un_norm_score,norm_score\r\n",
        "\r\n"
      ],
      "execution_count": null,
      "outputs": []
    },
    {
      "cell_type": "code",
      "metadata": {
        "id": "Z7gro0l6LIJX"
      },
      "source": [
        "# convert questions into tf-idf vectorizer or count-vectorizer"
      ],
      "execution_count": null,
      "outputs": []
    },
    {
      "cell_type": "code",
      "metadata": {
        "id": "ZZv5hJD9E9PD"
      },
      "source": [
        "X=df.iloc[:,[3,4]].values\r\n",
        "y=df.iloc[:,[6,7,8,9,10]].values"
      ],
      "execution_count": 26,
      "outputs": []
    },
    {
      "cell_type": "code",
      "metadata": {
        "id": "MGRyBYn_FW1j"
      },
      "source": [
        "svr=SVC(degree=2,kernel='poly',C=0.2)\r\n"
      ],
      "execution_count": 38,
      "outputs": []
    },
    {
      "cell_type": "code",
      "metadata": {
        "id": "p_5cYZnkHZV5"
      },
      "source": [
        "from sklearn.multioutput import MultiOutputRegressor\r\n",
        "mor = MultiOutputRegressor(svr)"
      ],
      "execution_count": 39,
      "outputs": []
    },
    {
      "cell_type": "code",
      "metadata": {
        "colab": {
          "base_uri": "https://localhost:8080/"
        },
        "id": "cmKr-yftGJ1r",
        "outputId": "38ee2232-9188-46a7-8faa-78ab2d97a0d2"
      },
      "source": [
        "X.shape"
      ],
      "execution_count": 28,
      "outputs": [
        {
          "output_type": "execute_result",
          "data": {
            "text/plain": [
              "(404290, 2)"
            ]
          },
          "metadata": {
            "tags": []
          },
          "execution_count": 28
        }
      ]
    },
    {
      "cell_type": "code",
      "metadata": {
        "id": "NLZEu7wUK4UT"
      },
      "source": [
        "mor.fit(x,y)"
      ],
      "execution_count": null,
      "outputs": []
    },
    {
      "cell_type": "code",
      "metadata": {
        "id": "XH9XOM0BLD2_"
      },
      "source": [
        "mor.predict([q1,q2]) #predicts five 5 score"
      ],
      "execution_count": null,
      "outputs": []
    }
  ]
}