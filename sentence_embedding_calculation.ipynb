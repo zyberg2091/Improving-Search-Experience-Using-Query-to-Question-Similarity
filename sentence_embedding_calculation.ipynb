{
  "nbformat": 4,
  "nbformat_minor": 0,
  "metadata": {
    "accelerator": "GPU",
    "colab": {
      "name": "sentence embedding calculation",
      "provenance": [],
      "collapsed_sections": []
    },
    "kernelspec": {
      "display_name": "Python 3",
      "name": "python3"
    }
  },
  "cells": [
    {
      "cell_type": "code",
      "metadata": {
        "colab": {
          "base_uri": "https://localhost:8080/"
        },
        "id": "CmO5Q1znAeT2",
        "outputId": "7e715b0b-2cdb-43b6-bcf2-c64255984e60"
      },
      "source": [
        "!pip install -U sentence-transformers"
      ],
      "execution_count": null,
      "outputs": [
        {
          "output_type": "stream",
          "text": [
            "Collecting sentence-transformers\n",
            "\u001b[?25l  Downloading https://files.pythonhosted.org/packages/6a/e2/84d6acfcee2d83164149778a33b6bdd1a74e1bcb59b2b2cd1b861359b339/sentence-transformers-0.4.1.2.tar.gz (64kB)\n",
            "\u001b[K     |████████████████████████████████| 71kB 5.3MB/s \n",
            "\u001b[?25hCollecting transformers<5.0.0,>=3.1.0\n",
            "\u001b[?25l  Downloading https://files.pythonhosted.org/packages/88/b1/41130a228dd656a1a31ba281598a968320283f48d42782845f6ba567f00b/transformers-4.2.2-py3-none-any.whl (1.8MB)\n",
            "\u001b[K     |████████████████████████████████| 1.8MB 15.0MB/s \n",
            "\u001b[?25hRequirement already satisfied, skipping upgrade: tqdm in /usr/local/lib/python3.6/dist-packages (from sentence-transformers) (4.41.1)\n",
            "Requirement already satisfied, skipping upgrade: torch>=1.6.0 in /usr/local/lib/python3.6/dist-packages (from sentence-transformers) (1.7.0+cu101)\n",
            "Requirement already satisfied, skipping upgrade: numpy in /usr/local/lib/python3.6/dist-packages (from sentence-transformers) (1.19.5)\n",
            "Requirement already satisfied, skipping upgrade: scikit-learn in /usr/local/lib/python3.6/dist-packages (from sentence-transformers) (0.22.2.post1)\n",
            "Requirement already satisfied, skipping upgrade: scipy in /usr/local/lib/python3.6/dist-packages (from sentence-transformers) (1.4.1)\n",
            "Requirement already satisfied, skipping upgrade: nltk in /usr/local/lib/python3.6/dist-packages (from sentence-transformers) (3.2.5)\n",
            "Collecting sentencepiece\n",
            "\u001b[?25l  Downloading https://files.pythonhosted.org/packages/14/67/e42bd1181472c95c8cda79305df848264f2a7f62740995a46945d9797b67/sentencepiece-0.1.95-cp36-cp36m-manylinux2014_x86_64.whl (1.2MB)\n",
            "\u001b[K     |████████████████████████████████| 1.2MB 40.8MB/s \n",
            "\u001b[?25hRequirement already satisfied, skipping upgrade: filelock in /usr/local/lib/python3.6/dist-packages (from transformers<5.0.0,>=3.1.0->sentence-transformers) (3.0.12)\n",
            "Requirement already satisfied, skipping upgrade: dataclasses; python_version < \"3.7\" in /usr/local/lib/python3.6/dist-packages (from transformers<5.0.0,>=3.1.0->sentence-transformers) (0.8)\n",
            "Requirement already satisfied, skipping upgrade: importlib-metadata; python_version < \"3.8\" in /usr/local/lib/python3.6/dist-packages (from transformers<5.0.0,>=3.1.0->sentence-transformers) (3.4.0)\n",
            "Requirement already satisfied, skipping upgrade: packaging in /usr/local/lib/python3.6/dist-packages (from transformers<5.0.0,>=3.1.0->sentence-transformers) (20.8)\n",
            "Requirement already satisfied, skipping upgrade: regex!=2019.12.17 in /usr/local/lib/python3.6/dist-packages (from transformers<5.0.0,>=3.1.0->sentence-transformers) (2019.12.20)\n",
            "Collecting tokenizers==0.9.4\n",
            "\u001b[?25l  Downloading https://files.pythonhosted.org/packages/0f/1c/e789a8b12e28be5bc1ce2156cf87cb522b379be9cadc7ad8091a4cc107c4/tokenizers-0.9.4-cp36-cp36m-manylinux2010_x86_64.whl (2.9MB)\n",
            "\u001b[K     |████████████████████████████████| 2.9MB 46.6MB/s \n",
            "\u001b[?25hCollecting sacremoses\n",
            "\u001b[?25l  Downloading https://files.pythonhosted.org/packages/7d/34/09d19aff26edcc8eb2a01bed8e98f13a1537005d31e95233fd48216eed10/sacremoses-0.0.43.tar.gz (883kB)\n",
            "\u001b[K     |████████████████████████████████| 890kB 43.2MB/s \n",
            "\u001b[?25hRequirement already satisfied, skipping upgrade: requests in /usr/local/lib/python3.6/dist-packages (from transformers<5.0.0,>=3.1.0->sentence-transformers) (2.23.0)\n",
            "Requirement already satisfied, skipping upgrade: typing-extensions in /usr/local/lib/python3.6/dist-packages (from torch>=1.6.0->sentence-transformers) (3.7.4.3)\n",
            "Requirement already satisfied, skipping upgrade: future in /usr/local/lib/python3.6/dist-packages (from torch>=1.6.0->sentence-transformers) (0.16.0)\n",
            "Requirement already satisfied, skipping upgrade: joblib>=0.11 in /usr/local/lib/python3.6/dist-packages (from scikit-learn->sentence-transformers) (1.0.0)\n",
            "Requirement already satisfied, skipping upgrade: six in /usr/local/lib/python3.6/dist-packages (from nltk->sentence-transformers) (1.15.0)\n",
            "Requirement already satisfied, skipping upgrade: zipp>=0.5 in /usr/local/lib/python3.6/dist-packages (from importlib-metadata; python_version < \"3.8\"->transformers<5.0.0,>=3.1.0->sentence-transformers) (3.4.0)\n",
            "Requirement already satisfied, skipping upgrade: pyparsing>=2.0.2 in /usr/local/lib/python3.6/dist-packages (from packaging->transformers<5.0.0,>=3.1.0->sentence-transformers) (2.4.7)\n",
            "Requirement already satisfied, skipping upgrade: click in /usr/local/lib/python3.6/dist-packages (from sacremoses->transformers<5.0.0,>=3.1.0->sentence-transformers) (7.1.2)\n",
            "Requirement already satisfied, skipping upgrade: urllib3!=1.25.0,!=1.25.1,<1.26,>=1.21.1 in /usr/local/lib/python3.6/dist-packages (from requests->transformers<5.0.0,>=3.1.0->sentence-transformers) (1.24.3)\n",
            "Requirement already satisfied, skipping upgrade: idna<3,>=2.5 in /usr/local/lib/python3.6/dist-packages (from requests->transformers<5.0.0,>=3.1.0->sentence-transformers) (2.10)\n",
            "Requirement already satisfied, skipping upgrade: chardet<4,>=3.0.2 in /usr/local/lib/python3.6/dist-packages (from requests->transformers<5.0.0,>=3.1.0->sentence-transformers) (3.0.4)\n",
            "Requirement already satisfied, skipping upgrade: certifi>=2017.4.17 in /usr/local/lib/python3.6/dist-packages (from requests->transformers<5.0.0,>=3.1.0->sentence-transformers) (2020.12.5)\n",
            "Building wheels for collected packages: sentence-transformers, sacremoses\n",
            "  Building wheel for sentence-transformers (setup.py) ... \u001b[?25l\u001b[?25hdone\n",
            "  Created wheel for sentence-transformers: filename=sentence_transformers-0.4.1.2-cp36-none-any.whl size=103068 sha256=df8677b213be4226b84c06d30f0a7359e53a5173f40c2fe00e03248758cd062f\n",
            "  Stored in directory: /root/.cache/pip/wheels/3d/33/d1/5703dd56199c09d4a1b41e0c07fb4e7765a84d787cbdc48ac3\n",
            "  Building wheel for sacremoses (setup.py) ... \u001b[?25l\u001b[?25hdone\n",
            "  Created wheel for sacremoses: filename=sacremoses-0.0.43-cp36-none-any.whl size=893261 sha256=6e16db766764d5583fc5e907d0e625ebd9148a0110aec2f1fd156621f5969a8b\n",
            "  Stored in directory: /root/.cache/pip/wheels/29/3c/fd/7ce5c3f0666dab31a50123635e6fb5e19ceb42ce38d4e58f45\n",
            "Successfully built sentence-transformers sacremoses\n",
            "Installing collected packages: tokenizers, sacremoses, transformers, sentencepiece, sentence-transformers\n",
            "Successfully installed sacremoses-0.0.43 sentence-transformers-0.4.1.2 sentencepiece-0.1.95 tokenizers-0.9.4 transformers-4.2.2\n"
          ],
          "name": "stdout"
        }
      ]
    },
    {
      "cell_type": "code",
      "metadata": {
        "id": "lkEPNCn0WdyC",
        "colab": {
          "base_uri": "https://localhost:8080/"
        },
        "outputId": "8a7ff2fb-b273-49dd-ecdf-1337b89b064f"
      },
      "source": [
        "from sentence_transformers import SentenceTransformer\r\n",
        "\r\n",
        "Roberta_model=SentenceTransformer('paraphrase-distilroberta-base-v1')"
      ],
      "execution_count": null,
      "outputs": [
        {
          "output_type": "stream",
          "text": [
            "100%|██████████| 306M/306M [00:19<00:00, 15.9MB/s]\n"
          ],
          "name": "stderr"
        }
      ]
    },
    {
      "cell_type": "code",
      "metadata": {
        "id": "Ms_0rVz3YdLj"
      },
      "source": [
        "sentences = ['This framework generates embeddings for each input sentence',\r\n",
        "    'Sentences are passed as a list of string.', \r\n",
        "    'The quick brown fox jumps over the lazy dog.']"
      ],
      "execution_count": null,
      "outputs": []
    },
    {
      "cell_type": "code",
      "metadata": {
        "id": "ByEr6yzYXanq"
      },
      "source": [
        "val=Roberta_model.encode(sentences)"
      ],
      "execution_count": null,
      "outputs": []
    },
    {
      "cell_type": "code",
      "metadata": {
        "colab": {
          "base_uri": "https://localhost:8080/"
        },
        "id": "xQ2nFrW8Yg6B",
        "outputId": "a7989d20-ad9e-4e1b-ffe6-db512e6a92c7"
      },
      "source": [
        "val.shape"
      ],
      "execution_count": null,
      "outputs": [
        {
          "output_type": "execute_result",
          "data": {
            "text/plain": [
              "(3, 768)"
            ]
          },
          "metadata": {
            "tags": []
          },
          "execution_count": 9
        }
      ]
    },
    {
      "cell_type": "code",
      "metadata": {
        "id": "oAZ43VuW04GI"
      },
      "source": [
        "import pandas as pd\r\n",
        "import numpy as np"
      ],
      "execution_count": null,
      "outputs": []
    },
    {
      "cell_type": "code",
      "metadata": {
        "colab": {
          "base_uri": "https://localhost:8080/",
          "height": 195
        },
        "id": "ANjDGS1Mdh4D",
        "outputId": "cf9bd7b4-a277-4793-82a8-0be43c8fd0c9"
      },
      "source": [
        "# our bench mark data set\r\n",
        "df=pd.read_csv(\"/content/drive/MyDrive/Data/quora duplicate identification/train.csv\")\r\n",
        "df.head()\r\n",
        "\r\n"
      ],
      "execution_count": null,
      "outputs": [
        {
          "output_type": "execute_result",
          "data": {
            "text/html": [
              "<div>\n",
              "<style scoped>\n",
              "    .dataframe tbody tr th:only-of-type {\n",
              "        vertical-align: middle;\n",
              "    }\n",
              "\n",
              "    .dataframe tbody tr th {\n",
              "        vertical-align: top;\n",
              "    }\n",
              "\n",
              "    .dataframe thead th {\n",
              "        text-align: right;\n",
              "    }\n",
              "</style>\n",
              "<table border=\"1\" class=\"dataframe\">\n",
              "  <thead>\n",
              "    <tr style=\"text-align: right;\">\n",
              "      <th></th>\n",
              "      <th>id</th>\n",
              "      <th>qid1</th>\n",
              "      <th>qid2</th>\n",
              "      <th>question1</th>\n",
              "      <th>question2</th>\n",
              "      <th>is_duplicate</th>\n",
              "    </tr>\n",
              "  </thead>\n",
              "  <tbody>\n",
              "    <tr>\n",
              "      <th>0</th>\n",
              "      <td>0</td>\n",
              "      <td>1</td>\n",
              "      <td>2</td>\n",
              "      <td>What is the step by step guide to invest in sh...</td>\n",
              "      <td>What is the step by step guide to invest in sh...</td>\n",
              "      <td>0</td>\n",
              "    </tr>\n",
              "    <tr>\n",
              "      <th>1</th>\n",
              "      <td>1</td>\n",
              "      <td>3</td>\n",
              "      <td>4</td>\n",
              "      <td>What is the story of Kohinoor (Koh-i-Noor) Dia...</td>\n",
              "      <td>What would happen if the Indian government sto...</td>\n",
              "      <td>0</td>\n",
              "    </tr>\n",
              "    <tr>\n",
              "      <th>2</th>\n",
              "      <td>2</td>\n",
              "      <td>5</td>\n",
              "      <td>6</td>\n",
              "      <td>How can I increase the speed of my internet co...</td>\n",
              "      <td>How can Internet speed be increased by hacking...</td>\n",
              "      <td>0</td>\n",
              "    </tr>\n",
              "    <tr>\n",
              "      <th>3</th>\n",
              "      <td>3</td>\n",
              "      <td>7</td>\n",
              "      <td>8</td>\n",
              "      <td>Why am I mentally very lonely? How can I solve...</td>\n",
              "      <td>Find the remainder when [math]23^{24}[/math] i...</td>\n",
              "      <td>0</td>\n",
              "    </tr>\n",
              "    <tr>\n",
              "      <th>4</th>\n",
              "      <td>4</td>\n",
              "      <td>9</td>\n",
              "      <td>10</td>\n",
              "      <td>Which one dissolve in water quikly sugar, salt...</td>\n",
              "      <td>Which fish would survive in salt water?</td>\n",
              "      <td>0</td>\n",
              "    </tr>\n",
              "  </tbody>\n",
              "</table>\n",
              "</div>"
            ],
            "text/plain": [
              "   id  qid1  ...                                          question2 is_duplicate\n",
              "0   0     1  ...  What is the step by step guide to invest in sh...            0\n",
              "1   1     3  ...  What would happen if the Indian government sto...            0\n",
              "2   2     5  ...  How can Internet speed be increased by hacking...            0\n",
              "3   3     7  ...  Find the remainder when [math]23^{24}[/math] i...            0\n",
              "4   4     9  ...            Which fish would survive in salt water?            0\n",
              "\n",
              "[5 rows x 6 columns]"
            ]
          },
          "metadata": {
            "tags": []
          },
          "execution_count": 11
        }
      ]
    },
    {
      "cell_type": "code",
      "metadata": {
        "id": "Vle_pdc18xEc"
      },
      "source": [
        "df=df.dropna()"
      ],
      "execution_count": null,
      "outputs": []
    },
    {
      "cell_type": "code",
      "metadata": {
        "id": "iJkuDZ-i01zx"
      },
      "source": [
        "questions=list(df['question1'])+(list(df['question2']))"
      ],
      "execution_count": null,
      "outputs": []
    },
    {
      "cell_type": "code",
      "metadata": {
        "colab": {
          "base_uri": "https://localhost:8080/"
        },
        "id": "BUBsxX657UGE",
        "outputId": "b0eddb92-a7f4-4564-d5b2-e8100216971b"
      },
      "source": [
        "!python -m spacy download en_core_web_sm"
      ],
      "execution_count": null,
      "outputs": [
        {
          "output_type": "stream",
          "text": [
            "Requirement already satisfied: en_core_web_sm==2.2.5 from https://github.com/explosion/spacy-models/releases/download/en_core_web_sm-2.2.5/en_core_web_sm-2.2.5.tar.gz#egg=en_core_web_sm==2.2.5 in /usr/local/lib/python3.6/dist-packages (2.2.5)\n",
            "Requirement already satisfied: spacy>=2.2.2 in /usr/local/lib/python3.6/dist-packages (from en_core_web_sm==2.2.5) (2.2.4)\n",
            "Requirement already satisfied: murmurhash<1.1.0,>=0.28.0 in /usr/local/lib/python3.6/dist-packages (from spacy>=2.2.2->en_core_web_sm==2.2.5) (1.0.5)\n",
            "Requirement already satisfied: thinc==7.4.0 in /usr/local/lib/python3.6/dist-packages (from spacy>=2.2.2->en_core_web_sm==2.2.5) (7.4.0)\n",
            "Requirement already satisfied: plac<1.2.0,>=0.9.6 in /usr/local/lib/python3.6/dist-packages (from spacy>=2.2.2->en_core_web_sm==2.2.5) (1.1.3)\n",
            "Requirement already satisfied: numpy>=1.15.0 in /usr/local/lib/python3.6/dist-packages (from spacy>=2.2.2->en_core_web_sm==2.2.5) (1.19.5)\n",
            "Requirement already satisfied: setuptools in /usr/local/lib/python3.6/dist-packages (from spacy>=2.2.2->en_core_web_sm==2.2.5) (53.0.0)\n",
            "Requirement already satisfied: catalogue<1.1.0,>=0.0.7 in /usr/local/lib/python3.6/dist-packages (from spacy>=2.2.2->en_core_web_sm==2.2.5) (1.0.0)\n",
            "Requirement already satisfied: preshed<3.1.0,>=3.0.2 in /usr/local/lib/python3.6/dist-packages (from spacy>=2.2.2->en_core_web_sm==2.2.5) (3.0.5)\n",
            "Requirement already satisfied: srsly<1.1.0,>=1.0.2 in /usr/local/lib/python3.6/dist-packages (from spacy>=2.2.2->en_core_web_sm==2.2.5) (1.0.5)\n",
            "Requirement already satisfied: wasabi<1.1.0,>=0.4.0 in /usr/local/lib/python3.6/dist-packages (from spacy>=2.2.2->en_core_web_sm==2.2.5) (0.8.1)\n",
            "Requirement already satisfied: tqdm<5.0.0,>=4.38.0 in /usr/local/lib/python3.6/dist-packages (from spacy>=2.2.2->en_core_web_sm==2.2.5) (4.41.1)\n",
            "Requirement already satisfied: cymem<2.1.0,>=2.0.2 in /usr/local/lib/python3.6/dist-packages (from spacy>=2.2.2->en_core_web_sm==2.2.5) (2.0.5)\n",
            "Requirement already satisfied: requests<3.0.0,>=2.13.0 in /usr/local/lib/python3.6/dist-packages (from spacy>=2.2.2->en_core_web_sm==2.2.5) (2.23.0)\n",
            "Requirement already satisfied: blis<0.5.0,>=0.4.0 in /usr/local/lib/python3.6/dist-packages (from spacy>=2.2.2->en_core_web_sm==2.2.5) (0.4.1)\n",
            "Requirement already satisfied: importlib-metadata>=0.20; python_version < \"3.8\" in /usr/local/lib/python3.6/dist-packages (from catalogue<1.1.0,>=0.0.7->spacy>=2.2.2->en_core_web_sm==2.2.5) (3.4.0)\n",
            "Requirement already satisfied: certifi>=2017.4.17 in /usr/local/lib/python3.6/dist-packages (from requests<3.0.0,>=2.13.0->spacy>=2.2.2->en_core_web_sm==2.2.5) (2020.12.5)\n",
            "Requirement already satisfied: urllib3!=1.25.0,!=1.25.1,<1.26,>=1.21.1 in /usr/local/lib/python3.6/dist-packages (from requests<3.0.0,>=2.13.0->spacy>=2.2.2->en_core_web_sm==2.2.5) (1.24.3)\n",
            "Requirement already satisfied: idna<3,>=2.5 in /usr/local/lib/python3.6/dist-packages (from requests<3.0.0,>=2.13.0->spacy>=2.2.2->en_core_web_sm==2.2.5) (2.10)\n",
            "Requirement already satisfied: chardet<4,>=3.0.2 in /usr/local/lib/python3.6/dist-packages (from requests<3.0.0,>=2.13.0->spacy>=2.2.2->en_core_web_sm==2.2.5) (3.0.4)\n",
            "Requirement already satisfied: zipp>=0.5 in /usr/local/lib/python3.6/dist-packages (from importlib-metadata>=0.20; python_version < \"3.8\"->catalogue<1.1.0,>=0.0.7->spacy>=2.2.2->en_core_web_sm==2.2.5) (3.4.0)\n",
            "Requirement already satisfied: typing-extensions>=3.6.4; python_version < \"3.8\" in /usr/local/lib/python3.6/dist-packages (from importlib-metadata>=0.20; python_version < \"3.8\"->catalogue<1.1.0,>=0.0.7->spacy>=2.2.2->en_core_web_sm==2.2.5) (3.7.4.3)\n",
            "\u001b[38;5;2m✔ Download and installation successful\u001b[0m\n",
            "You can now load the model via spacy.load('en_core_web_sm')\n"
          ],
          "name": "stdout"
        }
      ]
    },
    {
      "cell_type": "code",
      "metadata": {
        "colab": {
          "base_uri": "https://localhost:8080/"
        },
        "id": "K4c_emKr7u0B",
        "outputId": "cd8c522c-fc4f-4424-c9b7-8fa56d3cb98b"
      },
      "source": [
        "!pip install contractions"
      ],
      "execution_count": null,
      "outputs": [
        {
          "output_type": "stream",
          "text": [
            "Collecting contractions\n",
            "  Downloading https://files.pythonhosted.org/packages/4a/5f/91102df95715fdda07f56a7eba2baae983e2ae16a080eb52d79e08ec6259/contractions-0.0.45-py2.py3-none-any.whl\n",
            "Collecting textsearch\n",
            "  Downloading https://files.pythonhosted.org/packages/42/a8/03407021f9555043de5492a2bd7a35c56cc03c2510092b5ec018cae1bbf1/textsearch-0.0.17-py2.py3-none-any.whl\n",
            "Collecting pyahocorasick\n",
            "\u001b[?25l  Downloading https://files.pythonhosted.org/packages/4a/92/b3c70b8cf2b76f7e3e8b7243d6f06f7cb3bab6ada237b1bce57604c5c519/pyahocorasick-1.4.1.tar.gz (321kB)\n",
            "\u001b[K     |████████████████████████████████| 327kB 7.9MB/s \n",
            "\u001b[?25hCollecting Unidecode\n",
            "\u001b[?25l  Downloading https://files.pythonhosted.org/packages/74/65/91eab655041e9e92f948cb7302e54962035762ce7b518272ed9d6b269e93/Unidecode-1.1.2-py2.py3-none-any.whl (239kB)\n",
            "\u001b[K     |████████████████████████████████| 245kB 14.1MB/s \n",
            "\u001b[?25hBuilding wheels for collected packages: pyahocorasick\n",
            "  Building wheel for pyahocorasick (setup.py) ... \u001b[?25l\u001b[?25hdone\n",
            "  Created wheel for pyahocorasick: filename=pyahocorasick-1.4.1-cp36-cp36m-linux_x86_64.whl size=84340 sha256=f107560b23892ecd384a269beb972f447dbd0a35d19567f04deaef3c6268db3d\n",
            "  Stored in directory: /root/.cache/pip/wheels/e4/ab/f7/cb39270df8f6126f3dd4c33d302357167086db460968cfc80c\n",
            "Successfully built pyahocorasick\n",
            "Installing collected packages: pyahocorasick, Unidecode, textsearch, contractions\n",
            "Successfully installed Unidecode-1.1.2 contractions-0.0.45 pyahocorasick-1.4.1 textsearch-0.0.17\n"
          ],
          "name": "stdout"
        }
      ]
    },
    {
      "cell_type": "code",
      "metadata": {
        "id": "siVK4JLs4jdu"
      },
      "source": [
        "from data_cleaner import basic_clean,normalization\r\n",
        "\r\n",
        "questions=[basic_clean(text) for text in questions[:1000]]\r\n",
        "questions=[normalization(text) for text in questions[:1000]]"
      ],
      "execution_count": null,
      "outputs": []
    },
    {
      "cell_type": "code",
      "metadata": {
        "id": "DFDo78M13JvS",
        "colab": {
          "base_uri": "https://localhost:8080/"
        },
        "outputId": "e726e58f-c9bf-4bae-fb77-e91f1a6dba15"
      },
      "source": [
        "q_embedding=Roberta_model.encode(questions)\r\n",
        "q_embedding"
      ],
      "execution_count": null,
      "outputs": [
        {
          "output_type": "execute_result",
          "data": {
            "text/plain": [
              "array([[-0.16360234, -0.17930153,  0.14914513, ...,  0.1338934 ,\n",
              "        -0.3437827 , -0.00413765],\n",
              "       [-0.01563864,  0.05274884,  0.05677265, ..., -0.34794858,\n",
              "         0.1469091 ,  0.2069199 ],\n",
              "       [ 0.35172418,  0.3334732 ,  0.0106143 , ...,  0.11238978,\n",
              "         0.12639314,  0.1665183 ],\n",
              "       ...,\n",
              "       [ 0.31753832,  0.44577074,  0.05151366, ..., -0.33203867,\n",
              "        -0.12375947, -0.09089129],\n",
              "       [-0.11348309, -0.06439368, -0.07496834, ..., -0.00777846,\n",
              "         0.2978264 ,  0.03034527],\n",
              "       [ 0.16686626,  0.03655932, -0.10955131, ...,  0.17079645,\n",
              "         0.07372221, -0.44336432]], dtype=float32)"
            ]
          },
          "metadata": {
            "tags": []
          },
          "execution_count": 21
        }
      ]
    },
    {
      "cell_type": "code",
      "metadata": {
        "colab": {
          "base_uri": "https://localhost:8080/"
        },
        "id": "ZCfEgvwNvCPd",
        "outputId": "d70e6419-1b8b-4c8e-ca88-87ebdba67821"
      },
      "source": [
        "q_embedding[0],q_embedding"
      ],
      "execution_count": null,
      "outputs": [
        {
          "output_type": "execute_result",
          "data": {
            "text/plain": [
              "((1000, 768),\n",
              " array([-1.63602337e-01, -1.79301530e-01,  1.49145126e-01,  1.65309042e-01,\n",
              "        -4.57854569e-02, -2.21105888e-01, -1.45940082e-02, -7.79695017e-03,\n",
              "        -4.39864844e-02, -7.57869408e-02, -4.20561619e-02, -1.70047525e-02,\n",
              "        -7.22681778e-03,  4.97855023e-02, -2.22555384e-01,  4.62932557e-01,\n",
              "         4.38784212e-01, -4.77449745e-01,  2.33722761e-01,  1.61527514e-01,\n",
              "        -8.71991962e-02,  2.12490916e-01, -1.06336810e-01,  1.59264192e-01,\n",
              "        -7.35741556e-02,  2.82213688e-01, -4.93484102e-02, -2.86643147e-01,\n",
              "        -3.56438607e-01, -2.66299486e-01, -1.65006682e-01,  7.40244985e-02,\n",
              "         1.48846760e-01, -9.05571282e-02,  3.69553626e-01,  1.89232841e-01,\n",
              "         1.92145661e-01, -1.10085994e-01,  2.16255859e-01, -1.60995618e-01,\n",
              "        -7.28716135e-01, -8.61847699e-02, -2.53772289e-01, -3.10930535e-02,\n",
              "         9.00732353e-02, -2.20424682e-01,  1.63560748e-01, -1.57161221e-01,\n",
              "        -4.68696561e-03,  1.17315548e-02, -2.52648085e-01,  5.21022826e-02,\n",
              "         1.10166334e-01,  9.92584080e-02,  4.45058823e-01, -7.56878732e-03,\n",
              "        -1.09927177e-01,  1.28932700e-01,  2.23069832e-01,  5.44954874e-02,\n",
              "         3.57246399e-01,  3.18853706e-01, -1.69566154e-01,  1.40526712e-01,\n",
              "         1.51975259e-01, -1.36037007e-01, -7.60531276e-02,  1.44184425e-01,\n",
              "         7.70905986e-02, -8.88298526e-02, -3.87719809e-03,  2.00521082e-01,\n",
              "        -1.71692252e-01, -1.96897209e-01,  3.51444760e-04,  1.44913673e-01,\n",
              "         1.98880956e-01,  7.49819800e-02,  1.19252697e-01,  4.73555662e-02,\n",
              "        -1.80326045e-01, -1.28727973e-01,  8.55105519e-02,  8.63633156e-02,\n",
              "         1.21463358e-01, -1.03651993e-01, -9.38214660e-02, -1.48952842e-01,\n",
              "         7.39339506e-03,  6.78829476e-02, -4.31139469e-01, -1.37503287e-02,\n",
              "         3.00453901e-01,  1.72158882e-01,  3.10541671e-02,  1.89869087e-02,\n",
              "         1.06081441e-01, -3.47159147e-01, -3.92167866e-02,  2.60997210e-02,\n",
              "         1.26487002e-01,  3.00214011e-02,  1.41476095e-01,  4.99714278e-02,\n",
              "         1.09975278e-01, -4.80731390e-02, -3.11576575e-02, -5.51073775e-02,\n",
              "         5.05106114e-02,  1.91389844e-01, -1.29835472e-01,  2.21132144e-01,\n",
              "         2.69463301e-01,  9.41199362e-02, -5.85552305e-02,  2.95636177e-01,\n",
              "         2.19062448e-01, -4.46297407e-01,  3.70589674e-01, -3.61609191e-01,\n",
              "        -8.56679156e-02,  1.01562195e-01,  3.36017847e-01, -3.56193990e-01,\n",
              "         9.50485989e-02, -1.10875003e-01,  1.54643739e-02, -4.33692187e-02,\n",
              "        -1.48487440e-03, -2.13803247e-01, -1.83493450e-01,  3.72586191e-01,\n",
              "        -2.20691729e-02, -9.30321291e-02, -6.75770417e-02, -1.79417972e-02,\n",
              "        -3.14231515e-02,  2.29489252e-01, -3.27961743e-02,  8.02637562e-02,\n",
              "         7.10214153e-02, -1.31488919e-01, -2.02072978e-01, -9.73074138e-02,\n",
              "         1.96317196e-01, -7.59663582e-02,  2.20810950e-01,  2.76104301e-01,\n",
              "         2.96922177e-01, -3.11157763e-01,  3.45156826e-02, -3.21514457e-01,\n",
              "         7.87179321e-02,  1.15771472e-01,  2.27029487e-01,  1.73438087e-01,\n",
              "        -2.47253478e-01,  4.11737524e-02, -4.50436585e-02, -1.02310941e-01,\n",
              "         9.82488971e-03, -3.21387529e-01, -3.17501515e-01, -1.96079627e-01,\n",
              "         3.95025220e-03, -2.71042734e-02,  8.54885057e-02,  1.07320011e-01,\n",
              "        -2.35052556e-01, -4.67369795e-01, -3.98006588e-02,  1.60770174e-02,\n",
              "         2.33772963e-01,  5.98801672e-02,  1.59409255e-01,  9.75593701e-02,\n",
              "        -1.76220000e-01, -3.11081368e-03, -1.99434057e-01, -3.05783786e-02,\n",
              "         1.10200621e-01, -1.07010461e-01,  3.41981262e-01,  7.70334899e-02,\n",
              "        -1.11102283e-01,  1.63910836e-01,  3.18698555e-01, -4.56725180e-01,\n",
              "        -7.18191043e-02,  8.66290331e-02, -1.11974463e-01, -6.92048445e-02,\n",
              "         3.25183570e-02, -1.19041458e-01, -3.72199953e-01,  4.41642165e-01,\n",
              "        -1.05236441e-01,  8.75070915e-02,  3.34375948e-01, -2.00441271e-01,\n",
              "         2.65951544e-01, -1.70081690e-01,  1.17794685e-01, -7.81559497e-02,\n",
              "        -1.23011984e-01,  5.30856736e-02, -5.41397631e-01,  1.65599227e-01,\n",
              "         5.06446771e-02,  1.33873429e-03,  1.33615788e-02,  2.14508027e-02,\n",
              "         5.83110511e-01, -7.58752525e-02, -3.42892528e-01, -3.46140802e-01,\n",
              "        -2.52860580e-02,  3.90465677e-01,  2.66708761e-01,  1.64797917e-01,\n",
              "        -2.71606445e-02,  3.43358591e-02,  2.43801251e-01,  3.33555490e-01,\n",
              "        -2.04635024e-01, -2.59396791e-01, -4.77428026e-02,  1.81136802e-01,\n",
              "        -1.56455368e-01,  1.30350292e-01, -9.51894000e-02,  7.94244781e-02,\n",
              "         4.37005728e-01, -2.32481603e-02,  2.86681890e-01,  7.20268786e-01,\n",
              "         6.26894236e-02,  1.56373270e-02, -6.91474378e-02,  5.02161026e-01,\n",
              "        -2.73703486e-01,  2.40767151e-02, -2.76785523e-01,  4.73557532e-01,\n",
              "         2.37916410e-01, -2.96923399e-01, -6.64619431e-02, -1.07978188e-01,\n",
              "        -2.28047892e-01,  3.89402062e-02,  1.56461656e-01, -6.46927893e-01,\n",
              "         7.40715340e-02, -1.43497184e-01, -1.36222228e-01, -2.47219652e-01,\n",
              "        -5.22961617e-01, -1.52926326e-01, -1.07025594e-01, -9.86801907e-02,\n",
              "         5.03645539e-02,  2.43994147e-01, -1.54410481e-01,  3.38176697e-01,\n",
              "         2.47596011e-01,  1.97229862e-01,  1.70839638e-01,  3.72635484e-01,\n",
              "         1.26008794e-01, -1.61472544e-01,  3.49507093e-01,  5.26063330e-02,\n",
              "        -7.16159940e-02,  5.49942181e-02,  1.85406148e-01, -3.68916363e-01,\n",
              "        -6.66216239e-02, -2.82973528e-01,  1.57890588e-01,  1.39028266e-01,\n",
              "         1.31729722e-01, -1.27242997e-01, -1.66396976e-01,  3.77883017e-02,\n",
              "         1.73523664e-01,  2.59071320e-01, -3.78465801e-02, -2.24822849e-01,\n",
              "         1.99770764e-01, -1.52264595e-01,  3.59657370e-02, -1.39793739e-01,\n",
              "         4.04514879e-01, -1.46722436e-01, -2.76010595e-02, -1.55858904e-01,\n",
              "        -1.59831960e-02, -3.82855207e-01,  1.60142198e-01,  1.25976875e-01,\n",
              "        -2.29307711e-01,  1.75641239e-01,  1.44271657e-01, -1.11436099e-01,\n",
              "         4.74466011e-02,  2.32513789e-02,  3.83822732e-02, -1.37000352e-01,\n",
              "        -2.38311321e-01,  7.45478049e-02,  6.11048862e-02,  2.68868446e-01,\n",
              "         1.20767735e-01, -1.95277303e-01, -1.70488916e-02, -7.17396140e-02,\n",
              "        -3.45227569e-02,  7.66842365e-02,  1.19230032e-01, -1.15008831e-01,\n",
              "        -8.23939964e-02, -5.66892512e-02,  2.91116595e-01,  1.11197241e-01,\n",
              "         3.35577011e-01, -2.12196901e-01, -2.32677132e-01, -5.50360322e-01,\n",
              "        -7.80976415e-02,  2.13908076e-01, -3.80335525e-02, -6.29226342e-02,\n",
              "        -8.42498988e-02, -4.50878441e-01, -2.96940096e-02,  1.07556112e-01,\n",
              "        -3.16659152e-03,  2.88527697e-01,  1.22634567e-01,  1.37737632e-01,\n",
              "         2.11480990e-01, -2.67685950e-01,  3.17200720e-01, -1.26529425e-01,\n",
              "         1.29841521e-01, -4.42252085e-02, -5.30151762e-02,  3.00098513e-03,\n",
              "        -1.73666358e-01,  6.41895533e-02, -2.16817334e-01, -1.44818043e-02,\n",
              "         1.64916441e-01, -6.88279942e-02,  1.32729322e-01, -1.85026094e-01,\n",
              "        -9.67089012e-02,  1.37353629e-01,  1.42649427e-01, -3.49232793e-01,\n",
              "         1.40203983e-01, -1.15378603e-01, -5.72168194e-02,  1.51334584e-01,\n",
              "         1.76066950e-01,  3.96684036e-02,  3.73449028e-01,  4.19638246e-01,\n",
              "        -2.41066590e-01,  1.83763862e-01, -2.65855938e-02,  3.14358950e-01,\n",
              "        -6.02936894e-02,  9.93426666e-02, -8.33603218e-02,  2.73998622e-02,\n",
              "         2.20367044e-01,  3.65483671e-01, -4.11293097e-02,  2.84061611e-01,\n",
              "         6.16434030e-02, -2.17563033e-01, -9.80234966e-02,  3.60490568e-02,\n",
              "         3.59558016e-01,  8.90818536e-02,  2.71274954e-01,  3.23346376e-01,\n",
              "        -6.44470975e-02,  9.72386599e-02, -1.63611546e-01, -3.30985636e-01,\n",
              "         2.39711031e-01,  1.19522460e-01,  1.07875802e-01, -1.75612360e-01,\n",
              "         1.94445863e-01,  1.29150048e-01, -7.48126302e-03,  1.45065144e-01,\n",
              "         3.44154723e-02,  1.15613043e-01, -5.31821102e-02, -1.20072953e-01,\n",
              "        -4.32249010e-02, -5.10883391e-01,  2.99395710e-01, -7.19445348e-02,\n",
              "         3.25857431e-01,  1.31567404e-01, -2.85892375e-02,  2.77215838e-01,\n",
              "         5.21293469e-02,  1.58581614e-01, -9.51754525e-02, -2.37568036e-01,\n",
              "         2.68181622e-01, -6.00455776e-02, -1.56021282e-01,  1.85958505e-01,\n",
              "         2.28398636e-01, -6.86774477e-02, -1.21598523e-02,  1.82851255e-01,\n",
              "         2.88166791e-01,  4.35353994e-01, -1.51897073e-02, -1.64571136e-01,\n",
              "        -3.15968633e-01, -1.76970407e-01,  1.70510858e-01, -7.65074417e-02,\n",
              "         4.77616489e-02,  4.08638492e-02,  2.21747652e-01,  6.69694766e-02,\n",
              "         1.40688881e-01, -4.69647720e-02,  3.07382196e-02, -1.92628160e-01,\n",
              "         2.35493571e-01, -1.33020245e-02,  8.80244374e-02,  4.84129637e-01,\n",
              "        -3.36758830e-02, -1.04210898e-01, -3.89493048e-01,  2.04944015e-01,\n",
              "         3.79403174e-01,  2.61089392e-03,  3.34271103e-01,  6.15741849e-01,\n",
              "        -2.37081081e-01,  2.24306673e-01, -6.04417622e-02, -2.70668447e-01,\n",
              "        -3.51022601e-01,  3.88814628e-01, -1.36605129e-01, -1.83773469e-02,\n",
              "         4.43689764e-01,  1.69460207e-01, -1.40689164e-01,  1.14700399e-01,\n",
              "        -2.12788135e-01,  3.76845330e-01,  8.99991021e-02,  1.00188501e-01,\n",
              "        -3.11116725e-02,  7.89929628e-02,  1.05066155e-03, -9.25866291e-02,\n",
              "         2.26551685e-02, -1.20289229e-01,  2.56258696e-01, -6.03736937e-02,\n",
              "         3.10706377e-01,  2.28792980e-01, -4.40153897e-01,  2.76599359e-02,\n",
              "         5.31109655e-03, -9.31389630e-02,  4.15760502e-02,  4.17027175e-02,\n",
              "         1.04437858e-01,  4.15674597e-02, -3.45550150e-01, -1.53967336e-01,\n",
              "        -2.70524353e-01, -3.85334976e-02, -3.00027847e-01,  3.63884211e-01,\n",
              "        -1.24929428e-01, -1.69775888e-01,  3.54257941e-01, -3.15946758e-01,\n",
              "         1.81818772e-02, -4.74998429e-02,  5.14692783e-01,  2.76242018e-01,\n",
              "        -1.05929881e-01,  7.30196154e-03,  3.43671739e-01, -5.62347546e-02,\n",
              "         1.34525284e-01,  1.75786447e-02,  3.45423818e-02,  1.63917542e-01,\n",
              "         2.03330502e-01,  3.10266376e-01, -1.78068370e-01,  1.12590402e-01,\n",
              "        -9.85920504e-02, -9.78184864e-02,  1.59225184e-02,  6.00831434e-02,\n",
              "        -4.91406135e-02,  6.09469898e-02,  1.34871185e-01, -1.44015133e-01,\n",
              "         1.53214812e-01, -2.55663007e-01,  5.72424755e-03, -7.43826553e-02,\n",
              "        -5.99163435e-02, -1.46053389e-01,  2.82430686e-02,  6.14824630e-02,\n",
              "        -9.47401226e-02, -2.44700015e-01, -6.14787415e-02,  2.06365176e-02,\n",
              "        -8.09374377e-02, -8.80931616e-02,  9.48065519e-02,  3.46290767e-02,\n",
              "        -1.54477507e-01,  1.60793021e-01,  1.50134489e-02, -1.63163751e-01,\n",
              "        -2.06955075e-01,  1.93975374e-01,  1.48803415e-02,  2.10571617e-01,\n",
              "         3.99718851e-01,  1.44916341e-01,  1.04407839e-01, -2.91045964e-01,\n",
              "         1.66663602e-01, -3.77025679e-02, -4.63410139e-01, -3.24492902e-01,\n",
              "        -2.23255856e-03,  9.27983597e-03,  5.38982637e-02, -2.53749251e-01,\n",
              "         8.04077834e-03, -1.73080742e-01, -4.11416702e-02,  1.88297406e-01,\n",
              "        -1.26769528e-01,  3.96391153e-01,  1.30730465e-01,  1.13412172e-01,\n",
              "        -8.14701095e-02, -1.52192459e-01,  9.73589644e-02,  5.53386994e-02,\n",
              "        -4.79630157e-02,  2.01264650e-01, -2.86390722e-01,  1.29984757e-02,\n",
              "         1.11240849e-01, -3.47557306e-01,  3.71830821e-01,  2.23787110e-02,\n",
              "         1.79235980e-01, -4.62505072e-02,  4.57660496e-01, -1.65190071e-01,\n",
              "         3.71927321e-02, -1.01634391e-01,  1.32593825e-01,  3.72698039e-01,\n",
              "         3.01415771e-02,  5.24725199e-01, -5.71487248e-02,  9.40999612e-02,\n",
              "         6.01384230e-03,  8.11700225e-02, -1.79284766e-01, -1.96398854e-01,\n",
              "        -5.85485920e-02, -8.85091200e-02,  4.44053635e-02,  1.14579313e-01,\n",
              "         1.14621140e-01,  2.29080170e-01, -8.13001990e-02, -2.26867348e-01,\n",
              "        -3.08253914e-02,  3.53193790e-01, -1.43065006e-01, -4.83055599e-02,\n",
              "        -4.42463867e-02, -1.04314044e-01,  4.98704389e-02,  2.37811536e-01,\n",
              "         2.75784004e-02, -9.56793502e-02, -7.88321942e-02,  2.68519163e-01,\n",
              "        -3.26903522e-01,  3.52385968e-01,  5.72398044e-02,  1.29020989e-01,\n",
              "        -2.44350228e-02,  1.83029205e-01,  1.53449655e-01, -1.14014655e-01,\n",
              "        -2.03659628e-02,  9.64947697e-03,  1.19160749e-01, -2.21973479e-01,\n",
              "         1.42814949e-01, -1.98453218e-01, -8.70226845e-02,  2.31253326e-01,\n",
              "        -2.11926684e-01,  4.45137434e-02,  1.37748227e-01,  4.33299541e-01,\n",
              "        -8.03554803e-02,  1.18143953e-01, -4.26413774e-01, -2.05941066e-01,\n",
              "        -2.07700923e-01, -3.34217660e-02,  1.92172647e-01, -2.41655007e-01,\n",
              "        -1.56562716e-01, -2.68249656e-03, -5.64013645e-02, -3.05905240e-03,\n",
              "         1.81731910e-01,  5.39761595e-02, -1.46921381e-01, -5.26518464e-01,\n",
              "         1.48491999e-02, -1.55862048e-01,  1.28808916e-01, -8.19084495e-02,\n",
              "        -1.94864631e-01,  2.30886072e-01, -6.67960048e-02, -2.02544719e-01,\n",
              "         3.52546513e-01, -5.53582013e-02,  2.08658814e-01,  7.81819150e-02,\n",
              "         5.77494353e-02,  3.50684136e-01,  4.24375862e-01, -9.46337506e-02,\n",
              "        -4.37501185e-02, -1.53418452e-01, -8.51631388e-02,  4.41466004e-01,\n",
              "         1.44496694e-01,  1.97885260e-01,  2.77275443e-01,  4.27333899e-02,\n",
              "         3.92987907e-01,  3.53933871e-01, -1.07103840e-01,  3.60067673e-02,\n",
              "        -1.26970664e-01,  4.67855573e-01,  1.86672404e-01, -1.40509278e-01,\n",
              "        -5.09002842e-02,  2.21068963e-01, -1.20550506e-01,  1.67997703e-01,\n",
              "         2.30228931e-01, -1.01007096e-01,  1.35730341e-01,  9.48355868e-02,\n",
              "         5.10614574e-01, -2.53819078e-01,  4.49803233e-01,  1.20095059e-01,\n",
              "        -1.03283644e-01,  1.96210784e-03, -1.35401651e-01, -3.41042191e-01,\n",
              "        -2.76486635e-01, -2.47453630e-01,  1.04758173e-01, -1.95078984e-01,\n",
              "         1.51019618e-01,  1.83629692e-01,  1.39243916e-01, -4.32446390e-01,\n",
              "         1.04853414e-01, -2.83317249e-02, -2.01185197e-01, -2.89796680e-01,\n",
              "         6.71076924e-02,  2.01876327e-01, -2.95450270e-01, -5.22811189e-02,\n",
              "         2.68604457e-01,  3.16419601e-02,  1.04438186e-01, -1.03389472e-01,\n",
              "         2.85762898e-03,  2.89633274e-01,  8.18226337e-02,  2.84683853e-02,\n",
              "        -3.89476776e-01,  2.76940078e-01, -1.00708686e-01,  2.11810589e-01,\n",
              "         3.99950147e-01,  1.56452373e-01, -2.77548552e-01,  1.19329043e-01,\n",
              "        -3.91604662e-01, -1.55945718e-01,  4.50361103e-01,  6.10772331e-05,\n",
              "        -8.52824673e-02, -6.61955327e-02, -7.15753213e-02,  2.19986185e-01,\n",
              "        -1.56781601e-03,  1.48276240e-01, -9.06927586e-02,  2.88515359e-01,\n",
              "         1.04549795e-01, -1.67530812e-02, -7.82593265e-02,  1.78551599e-02,\n",
              "        -4.92236838e-02,  3.64608914e-02,  4.97186892e-02,  1.39311090e-01,\n",
              "         9.16417167e-02, -5.17947316e-01,  4.22046989e-01, -1.67948022e-01,\n",
              "        -4.73720789e-01,  3.62857915e-02,  7.23438263e-02, -2.05667704e-01,\n",
              "        -5.92365861e-01,  1.01151112e-02,  1.21621959e-01, -1.48501731e-02,\n",
              "        -2.48723477e-01,  7.18646720e-02,  4.38508466e-02, -1.66713521e-01,\n",
              "         1.91894621e-01,  1.33893400e-01, -3.43782693e-01, -4.13764920e-03],\n",
              "       dtype=float32))"
            ]
          },
          "metadata": {
            "tags": []
          },
          "execution_count": 24
        }
      ]
    },
    {
      "cell_type": "code",
      "metadata": {
        "id": "2MPLqgsVPOuX",
        "colab": {
          "base_uri": "https://localhost:8080/"
        },
        "outputId": "9c7de3d3-3189-48d6-d6bd-6b7b9b677eeb"
      },
      "source": [
        "from sklearn.metrics.pairwise import cosine_similarity\r\n",
        "\r\n",
        "query=str(input())\r\n",
        "encoding=Roberta_model.encode(query)\r\n",
        "score=max([cosine_similarity([encoding],[embedding]) for embedding in q_embedding])\r\n",
        "\r\n",
        "print(score)"
      ],
      "execution_count": null,
      "outputs": [
        {
          "output_type": "stream",
          "text": [
            "Who is the PM of india\n",
            "[[0.42471898]]\n"
          ],
          "name": "stdout"
        }
      ]
    },
    {
      "cell_type": "code",
      "metadata": {
        "colab": {
          "base_uri": "https://localhost:8080/"
        },
        "id": "rQmMH0tEtn3M",
        "outputId": "48bd877f-f720-4428-df2b-19e6eea0ee47"
      },
      "source": [
        "from sklearn.metrics.pairwise import cosine_similarity\r\n",
        "\r\n",
        "cosine_similarity([[1,2,3,12,12]],[[1,2,212,112,2]])\r\n"
      ],
      "execution_count": null,
      "outputs": [
        {
          "output_type": "execute_result",
          "data": {
            "text/plain": [
              "array([[0.48211858]])"
            ]
          },
          "metadata": {
            "tags": []
          },
          "execution_count": 4
        }
      ]
    },
    {
      "cell_type": "code",
      "metadata": {
        "colab": {
          "base_uri": "https://localhost:8080/"
        },
        "id": "fJ_tnZ8qw1Ix",
        "outputId": "fa74b9e2-fc70-4282-e6fa-2dab9778e1e5"
      },
      "source": [
        "for embedding in q_embedding:\r\n",
        "  print(embedding.shape)\r\n",
        "  break"
      ],
      "execution_count": null,
      "outputs": [
        {
          "output_type": "stream",
          "text": [
            "(768,)\n"
          ],
          "name": "stdout"
        }
      ]
    },
    {
      "cell_type": "code",
      "metadata": {
        "id": "CRs-URwPvpdC"
      },
      "source": [],
      "execution_count": null,
      "outputs": []
    }
  ]
}